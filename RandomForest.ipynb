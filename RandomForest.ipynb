{
 "cells": [
  {
   "cell_type": "markdown",
   "metadata": {},
   "source": [
    "# 【第1回_Beginner限定コンペ】銀行の顧客ターゲティング\n",
    "\n",
    "顧客の属性情報などから定期預金キャンペーンの反応率を予測しよう。\n",
    "\n",
    "https://signate.jp/competitions/292\n",
    "\n",
    "Random Forest編"
   ]
  },
  {
   "cell_type": "code",
   "execution_count": 13,
   "metadata": {},
   "outputs": [],
   "source": [
    "import numpy as np\n",
    "import pandas as pd\n",
    "import matplotlib.pyplot as plt\n",
    "import seaborn as sns\n",
    "%matplotlib inline\n",
    "\n",
    "import optuna\n",
    "from sklearn.ensemble import RandomForestRegressor as RandomForest\n",
    "\n",
    "from sklearn.model_selection import train_test_split\n",
    "from sklearn.metrics import accuracy_score, recall_score, precision_score, f1_score"
   ]
  },
  {
   "cell_type": "code",
   "execution_count": 14,
   "metadata": {},
   "outputs": [],
   "source": [
    "train_df = pd.read_csv('train.csv')\n",
    "test_df = pd.read_csv('test.csv')\n",
    "submit_df = pd.read_csv('submit_sample.csv', header=None)"
   ]
  },
  {
   "cell_type": "code",
   "execution_count": 15,
   "metadata": {},
   "outputs": [],
   "source": [
    "df_list = [train_df, test_df]\n",
    "\n",
    "for df in df_list:\n",
    "    #df['job'] = job_encoder.transform(df['job'])\n",
    "    df['job'] = df['job'].map({'unknown': 1, 'technician': 2, 'blue-collar': 3, 'services': 4, 'entrepreneur': 5, 'admin.': 6, 'management': 7, 'housemaid': 8, 'self-employed': 9, 'unemployed': 10, 'retired': 11, 'student': 12})\n",
    "\n",
    "    df['marital'] = df['marital'].map({'married': 2, 'divorced':1, 'single': 0})\n",
    "    #df.drop(['marital'], axis=1, inplace=True)\n",
    "\n",
    "    df['education'] = df['education'].map({'tertiary': 3, 'secondary': 2, 'primary': 1, 'unknown': 0})\n",
    "    #df.drop(['education'], axis=1, inplace=True)\n",
    "\n",
    "    #df['default'] = df['default'].map({'yes': 1, 'no': 0})\n",
    "    df.drop(['default'], axis=1, inplace=True)\n",
    "\n",
    "    df['housing'] = df['housing'].map({'yes': 1, 'no': 0})\n",
    "    #df.drop(['housing'], axis=1, inplace=True)\n",
    "    \n",
    "    df['loan'] = df['loan'].map({'yes': 1, 'no': 0})\n",
    "    #df.drop(['loan'], axis=1, inplace=True)\n",
    "\n",
    "    df['contact'] = df['contact'].map({'telephone': 2, 'cellular': 1, 'unknown': 0})\n",
    "    #df.drop(['contact'], axis=1, inplace=True)\n",
    "\n",
    "    df['poutcome'] = df['poutcome'].map({'success': 3, 'unknown': 2, 'failure': 1, 'other': 0})\n",
    "    \n",
    "    df['month'] = df['month'].map({'jan': 1, 'feb': 2, 'mar': 3, 'apr': 4, 'may': 5, 'jun': 6, 'jul': 7, 'aug': 8, 'sep': 9, 'oct': 10, 'nov': 11, 'dec': 12})\n",
    "    #df.drop(['day', 'month'], axis=1, inplace=True)\n",
    "    \n",
    "    # Feb 30 とかあって、正確には変換できない\n",
    "    df['days'] = pd.to_datetime('2016/' + df['month'].astype(str).str.pad(2,fillchar='0') + '/' + df['day'].astype(str).str.pad(2,fillchar='0'), format='%Y/%m/%d').dt.strftime('%j').astype('uint16')\n",
    "    #df['days'] = df['month'] * 31 + df['day']\n",
    "    \n",
    "    df.drop(['id'], axis=1, inplace=True)"
   ]
  },
  {
   "cell_type": "code",
   "execution_count": 16,
   "metadata": {},
   "outputs": [],
   "source": [
    "y = train_df.pop('y')"
   ]
  },
  {
   "cell_type": "code",
   "execution_count": 17,
   "metadata": {},
   "outputs": [],
   "source": [
    "X_train, X_test, y_train, y_test = train_test_split(train_df, y, test_size=0.2, random_state=99)"
   ]
  },
  {
   "cell_type": "code",
   "execution_count": 18,
   "metadata": {},
   "outputs": [],
   "source": [
    "def objective(trial):\n",
    "    params = {\n",
    "        'n_estimators': 1000,\n",
    "        'max_depth': trial.suggest_int('max_depth', 2, 32),\n",
    "        'min_samples_leaf': trial.suggest_int('min_samples_leaf', 1, 20),\n",
    "        #'min_samples_split': trial.suggest_int('min_samples_split', 2, 10),\n",
    "        #'max_leaf_nodes': trial.suggest_int('max_leaf_nodes', 10, 40),\n",
    "    }\n",
    "    model = RandomForest(**params).fit(X_train, y_train)\n",
    "    return model.score(X_test, y_test)"
   ]
  },
  {
   "cell_type": "code",
   "execution_count": 19,
   "metadata": {},
   "outputs": [
    {
     "name": "stderr",
     "output_type": "stream",
     "text": [
      "[I 2020-08-13 06:32:37,923] Trial 0 finished with value: 0.17300795938188362 and parameters: {'max_depth': 27, 'min_samples_leaf': 16}. Best is trial 0 with value: 0.17300795938188362.\n",
      "[I 2020-08-13 06:33:34,928] Trial 1 finished with value: 0.16718149588030706 and parameters: {'max_depth': 25, 'min_samples_leaf': 7}. Best is trial 0 with value: 0.17300795938188362.\n",
      "[I 2020-08-13 06:34:26,379] Trial 2 finished with value: 0.17316662106825442 and parameters: {'max_depth': 23, 'min_samples_leaf': 19}. Best is trial 2 with value: 0.17316662106825442.\n",
      "[I 2020-08-13 06:34:45,007] Trial 3 finished with value: 0.1491172750919888 and parameters: {'max_depth': 4, 'min_samples_leaf': 5}. Best is trial 2 with value: 0.17316662106825442.\n",
      "[I 2020-08-13 06:35:22,490] Trial 4 finished with value: 0.17298317072079739 and parameters: {'max_depth': 9, 'min_samples_leaf': 13}. Best is trial 2 with value: 0.17316662106825442.\n",
      "[I 2020-08-13 06:35:53,007] Trial 5 finished with value: 0.17005927347485816 and parameters: {'max_depth': 7, 'min_samples_leaf': 8}. Best is trial 2 with value: 0.17316662106825442.\n",
      "[I 2020-08-13 06:36:48,448] Trial 6 finished with value: 0.16965649993330278 and parameters: {'max_depth': 19, 'min_samples_leaf': 8}. Best is trial 2 with value: 0.17316662106825442.\n",
      "[I 2020-08-13 06:37:42,153] Trial 7 finished with value: 0.17250441304955877 and parameters: {'max_depth': 32, 'min_samples_leaf': 13}. Best is trial 2 with value: 0.17316662106825442.\n",
      "[I 2020-08-13 06:38:35,096] Trial 8 finished with value: 0.17263961942844097 and parameters: {'max_depth': 17, 'min_samples_leaf': 11}. Best is trial 2 with value: 0.17316662106825442.\n",
      "[I 2020-08-13 06:39:26,787] Trial 9 finished with value: 0.17330841028017496 and parameters: {'max_depth': 26, 'min_samples_leaf': 19}. Best is trial 9 with value: 0.17330841028017496.\n"
     ]
    }
   ],
   "source": [
    "study = optuna.create_study(direction='maximize')\n",
    "study.optimize(objective, n_trials=10)"
   ]
  },
  {
   "cell_type": "code",
   "execution_count": 20,
   "metadata": {},
   "outputs": [
    {
     "name": "stdout",
     "output_type": "stream",
     "text": [
      "Number of finished trials: 10\n",
      "Best trial:\n",
      "  Value: 0.17330841028017496\n",
      "  Params: \n",
      "    max_depth: 26\n",
      "    min_samples_leaf: 19\n"
     ]
    }
   ],
   "source": [
    "print(\"Number of finished trials: {}\".format(len(study.trials)))\n",
    "\n",
    "print(\"Best trial:\")\n",
    "trial = study.best_trial\n",
    "\n",
    "print(\"  Value: {}\".format(trial.value))\n",
    "\n",
    "print(\"  Params: \")\n",
    "for key, value in trial.params.items():\n",
    "    print(\"    {}: {}\".format(key, value))"
   ]
  },
  {
   "cell_type": "code",
   "execution_count": 21,
   "metadata": {},
   "outputs": [
    {
     "data": {
      "text/plain": [
       "OrderedDict([('min_samples_leaf', 0.6664165013907087),\n",
       "             ('max_depth', 0.3335834986092913)])"
      ]
     },
     "execution_count": 21,
     "metadata": {},
     "output_type": "execute_result"
    }
   ],
   "source": [
    "optuna.importance.get_param_importances(study)"
   ]
  },
  {
   "cell_type": "code",
   "execution_count": 22,
   "metadata": {},
   "outputs": [],
   "source": [
    "best_params = {\n",
    "    'n_estimators': 1000,\n",
    "}\n",
    "best_params.update(study.best_trial.params)\n",
    "\n",
    "best_model = RandomForest(**best_params).fit(X_train, y_train)"
   ]
  },
  {
   "cell_type": "code",
   "execution_count": 23,
   "metadata": {},
   "outputs": [
    {
     "name": "stdout",
     "output_type": "stream",
     "text": [
      "Accuracy score = \t 0.9291512915129151\n",
      "Precision score = \t 0.6534653465346535\n",
      "Recall score =   \t 0.15903614457831325\n",
      "F1 score =      \t 0.2558139534883721\n"
     ]
    }
   ],
   "source": [
    "preds = np.round(best_model.predict(X_test))\n",
    "print('Accuracy score = \\t {}'.format(accuracy_score(y_test, preds)))\n",
    "print('Precision score = \\t {}'.format(precision_score(y_test, preds)))\n",
    "print('Recall score =   \\t {}'.format(recall_score(y_test, preds)))\n",
    "print('F1 score =      \\t {}'.format(f1_score(y_test, preds)))"
   ]
  },
  {
   "cell_type": "code",
   "execution_count": 24,
   "metadata": {},
   "outputs": [],
   "source": [
    "test_pred = best_model.predict(test_df)\n",
    "submit_df[1] = test_pred\n",
    "submit_df.to_csv('submit-rf.csv', header=False, index=False)"
   ]
  }
 ],
 "metadata": {
  "kernelspec": {
   "display_name": "tensorflow",
   "language": "python",
   "name": "tensorflow"
  },
  "language_info": {
   "codemirror_mode": {
    "name": "ipython",
    "version": 3
   },
   "file_extension": ".py",
   "mimetype": "text/x-python",
   "name": "python",
   "nbconvert_exporter": "python",
   "pygments_lexer": "ipython3",
   "version": "3.6.9"
  }
 },
 "nbformat": 4,
 "nbformat_minor": 4
}
