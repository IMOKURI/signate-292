{
 "cells": [
  {
   "cell_type": "markdown",
   "metadata": {},
   "source": [
    "# 【第1回_Beginner限定コンペ】銀行の顧客ターゲティング\n",
    "\n",
    "顧客の属性情報などから定期預金キャンペーンの反応率を予測しよう。\n",
    "\n",
    "https://signate.jp/competitions/292\n",
    "\n",
    "Neural Network編"
   ]
  },
  {
   "cell_type": "markdown",
   "metadata": {},
   "source": [
    "## ライブラリインポート"
   ]
  },
  {
   "cell_type": "code",
   "execution_count": 86,
   "metadata": {},
   "outputs": [],
   "source": [
    "import numpy as np\n",
    "import pandas as pd\n",
    "import matplotlib.pyplot as plt\n",
    "import seaborn as sns\n",
    "%matplotlib inline\n",
    "\n",
    "#import optuna\n",
    "import tensorflow as tf\n",
    "\n",
    "from tensorflow.keras import regularizers\n",
    "from tensorflow.keras import backend as K\n",
    "from tensorflow.keras.backend import clear_session\n",
    "from tensorflow.keras.layers import Activation, Dense, Dropout\n",
    "from tensorflow.keras.models import Sequential\n",
    "from tensorflow.keras.optimizers import Adam\n",
    "\n",
    "from imblearn.under_sampling import RandomUnderSampler\n",
    "\n",
    "from sklearn import preprocessing\n",
    "from sklearn.model_selection import train_test_split\n",
    "from sklearn.metrics import accuracy_score, recall_score, precision_score, f1_score"
   ]
  },
  {
   "cell_type": "markdown",
   "metadata": {},
   "source": [
    "## データ読み込み・前処理"
   ]
  },
  {
   "cell_type": "code",
   "execution_count": 87,
   "metadata": {},
   "outputs": [],
   "source": [
    "train_df = pd.read_csv('train.csv')\n",
    "test_df = pd.read_csv('test.csv')\n",
    "submit_df = pd.read_csv('submit_sample.csv', header=None)"
   ]
  },
  {
   "cell_type": "code",
   "execution_count": 88,
   "metadata": {},
   "outputs": [],
   "source": [
    "# one hot encoding\n",
    "train_df = pd.get_dummies(train_df, columns=['job', 'marital', 'education', 'contact', 'poutcome'])\n",
    "test_df = pd.get_dummies(test_df, columns=['job', 'marital', 'education', 'contact', 'poutcome'])\n",
    "test_df.drop(['job_unknown'], axis=1, inplace=True)\n",
    "\n",
    "df_list = [train_df, test_df]\n",
    "\n",
    "for df in df_list:\n",
    "    #df['default'] = df['default'].map({'yes': 1, 'no': 0})\n",
    "    df.drop(['default'], axis=1, inplace=True)\n",
    "\n",
    "    df['housing'] = df['housing'].map({'yes': 1, 'no': 0})\n",
    "    #df.drop(['housing'], axis=1, inplace=True)\n",
    "    \n",
    "    df['loan'] = df['loan'].map({'yes': 1, 'no': 0})\n",
    "    #df.drop(['loan'], axis=1, inplace=True)\n",
    "    \n",
    "    df['month'] = df['month'].map({'jan': 1, 'feb': 2, 'mar': 3, 'apr': 4, 'may': 5, 'jun': 6, 'jul': 7, 'aug': 8, 'sep': 9, 'oct': 10, 'nov': 11, 'dec': 12})\n",
    "    #df.drop(['day', 'month'], axis=1, inplace=True)\n",
    "    \n",
    "    # Feb 30 とかあって、正確には変換できない\n",
    "    #df['days'] = pd.to_datetime('2016/' + df['month'].astype(str).str.pad(2,fillchar='0') + '/' + df['day'].astype(str).str.pad(2,fillchar='0'), format='%Y/%m/%d').dt.strftime('%j')\n",
    "    df['days'] = df['month'] * 31 + df['day']\n",
    "    \n",
    "    df.drop(['id'], axis=1, inplace=True)\n",
    "    \n",
    "y = train_df.pop('y')\n",
    "\n",
    "# 正規化\n",
    "scaler = preprocessing.StandardScaler()\n",
    "\n",
    "_train = train_df.values\n",
    "_test = test_df.values\n",
    "\n",
    "train_scaled = scaler.fit_transform(_train)\n",
    "test_scaled = scaler.fit_transform(_test)\n"
   ]
  },
  {
   "cell_type": "code",
   "execution_count": 89,
   "metadata": {},
   "outputs": [
    {
     "name": "stdout",
     "output_type": "stream",
     "text": [
      "(27100, 36)\n",
      "(18050, 36)\n",
      "(27100,)\n"
     ]
    }
   ],
   "source": [
    "print(train_scaled.shape)\n",
    "print(test_scaled.shape)\n",
    "print(y.shape)"
   ]
  },
  {
   "cell_type": "code",
   "execution_count": 90,
   "metadata": {},
   "outputs": [
    {
     "data": {
      "text/plain": [
       "array([[-0.64906696, -1.11812654,  0.84447012, -0.38187554,  0.49623316,\n",
       "         2.3381463 , -0.62617245,  1.28856235,  0.25983994, -0.23428177,\n",
       "        -0.3650682 , -0.53079949, -0.21099111, -0.16917194, -0.49572967,\n",
       "        -0.19614619, -0.2117532 ,  3.15709039, -0.11488142, -0.47068683,\n",
       "        -0.17384588, -0.31420198,  0.73677736, -0.59581876, -0.37422532,\n",
       "         0.83577934, -0.57519141, -0.20363327,  0.64448843, -0.20607783,\n",
       "        -0.5815544 , -0.33381147,  5.63992169, -0.13111408, -2.40277062,\n",
       "         2.40694526],\n",
       "       [-0.90494341, -0.14710508, -1.18417452, -0.38187554,  0.61292704,\n",
       "         0.93471994, -0.34803707,  0.23596131,  1.06889503, -0.23428177,\n",
       "        -0.3650682 , -0.53079949,  4.73953621, -0.16917194, -0.49572967,\n",
       "        -0.19614619, -0.2117532 , -0.31674735, -0.11488142, -0.47068683,\n",
       "        -0.17384588, -0.31420198, -1.35726212,  1.67836272, -0.37422532,\n",
       "        -1.19648806,  1.73855169, -0.20363327,  0.64448843, -0.20607783,\n",
       "        -0.5815544 , -0.33381147, -0.17730743, -0.13111408,  0.41618621,\n",
       "         1.01593541],\n",
       "       [-0.13731407, -1.11945354,  0.84447012, -0.38187554, -0.67070558,\n",
       "         2.3381463 ,  0.59371954, -0.81663974,  1.56067361, -0.23428177,\n",
       "        -0.3650682 , -0.53079949, -0.21099111, -0.16917194,  2.01722845,\n",
       "        -0.19614619, -0.2117532 , -0.31674735, -0.11488142, -0.47068683,\n",
       "        -0.17384588, -0.31420198,  0.73677736, -0.59581876, -0.37422532,\n",
       "        -1.19648806,  1.73855169, -0.20363327,  0.64448843, -0.20607783,\n",
       "        -0.5815544 ,  2.99570297, -0.17730743, -0.13111408, -2.40277062,\n",
       "         2.25574853],\n",
       "       [-0.64906696,  1.62520733,  0.84447012,  2.61865423, -0.08723621,\n",
       "        -0.46870643,  2.0917469 ,  0.23596131, -1.23929154, -0.23428177,\n",
       "        -0.3650682 , -0.53079949, -0.21099111, -0.16917194, -0.49572967,\n",
       "        -0.19614619, -0.2117532 , -0.31674735, -0.11488142,  2.12455489,\n",
       "        -0.17384588, -0.31420198,  0.73677736, -0.59581876, -0.37422532,\n",
       "         0.83577934, -0.57519141, -0.20363327, -1.55161824, -0.20607783,\n",
       "         1.71952959,  2.99570297, -0.17730743, -0.13111408, -2.40277062,\n",
       "        -0.48091214],\n",
       "       [ 1.52588285, -0.17939558,  0.84447012, -0.38187554, -1.60425657,\n",
       "        -0.93651522, -0.25532528, -0.81663974, -0.63250022, -0.23428177,\n",
       "        -0.3650682 , -0.53079949, -0.21099111, -0.16917194, -0.49572967,\n",
       "        -0.19614619, -0.2117532 , -0.31674735, -0.11488142, -0.47068683,\n",
       "         5.75222134, -0.31420198,  0.73677736, -0.59581876,  2.67218689,\n",
       "        -1.19648806, -0.57519141, -0.20363327, -1.55161824,  4.85253557,\n",
       "        -0.5815544 , -0.33381147, -0.17730743, -0.13111408,  0.41618621,\n",
       "        -1.14617772]])"
      ]
     },
     "execution_count": 90,
     "metadata": {},
     "output_type": "execute_result"
    }
   ],
   "source": [
    "train_scaled[:5]"
   ]
  },
  {
   "cell_type": "code",
   "execution_count": 91,
   "metadata": {},
   "outputs": [],
   "source": [
    "#precision\n",
    "def P(y_true, y_pred):\n",
    "    true_positives = K.sum(K.cast(K.greater(K.clip(y_true * y_pred, 0, 1), 0.10), 'float32'))\n",
    "    pred_positives = K.sum(K.cast(K.greater(K.clip(y_pred, 0, 1), 0.10), 'float32'))\n",
    "\n",
    "    precision = true_positives / (pred_positives + K.epsilon())\n",
    "    return precision\n",
    "\n",
    "#recall\n",
    "def R(y_true, y_pred):\n",
    "    true_positives = K.sum(K.cast(K.greater(K.clip(y_true * y_pred, 0, 1), 0.10), 'float32'))\n",
    "    poss_positives = K.sum(K.cast(K.greater(K.clip(y_true, 0, 1), 0.10), 'float32'))\n",
    "\n",
    "    recall = true_positives / (poss_positives + K.epsilon())\n",
    "    return recall\n",
    "\n",
    "#f-measure\n",
    "def F(y_true, y_pred):\n",
    "    p_val = P(y_true, y_pred)\n",
    "    r_val = R(y_true, y_pred)\n",
    "    f_val = 2*p_val*r_val / (p_val + r_val)\n",
    "\n",
    "    return f_val"
   ]
  },
  {
   "cell_type": "markdown",
   "metadata": {},
   "source": [
    "## 学習1サイクル"
   ]
  },
  {
   "cell_type": "code",
   "execution_count": 92,
   "metadata": {},
   "outputs": [],
   "source": [
    "BATCHSIZE=32\n",
    "EPOCHS = 10"
   ]
  },
  {
   "cell_type": "code",
   "execution_count": 93,
   "metadata": {},
   "outputs": [
    {
     "name": "stdout",
     "output_type": "stream",
     "text": [
      "Model: \"sequential\"\n",
      "_________________________________________________________________\n",
      "Layer (type)                 Output Shape              Param #   \n",
      "=================================================================\n",
      "dense (Dense)                (None, 1024)              37888     \n",
      "_________________________________________________________________\n",
      "dense_1 (Dense)              (None, 1024)              1049600   \n",
      "_________________________________________________________________\n",
      "dropout (Dropout)            (None, 1024)              0         \n",
      "_________________________________________________________________\n",
      "dense_2 (Dense)              (None, 1024)              1049600   \n",
      "_________________________________________________________________\n",
      "dense_3 (Dense)              (None, 1024)              1049600   \n",
      "_________________________________________________________________\n",
      "dropout_1 (Dropout)          (None, 1024)              0         \n",
      "_________________________________________________________________\n",
      "dense_4 (Dense)              (None, 1024)              1049600   \n",
      "_________________________________________________________________\n",
      "dense_5 (Dense)              (None, 10)                10250     \n",
      "_________________________________________________________________\n",
      "dense_6 (Dense)              (None, 1)                 11        \n",
      "=================================================================\n",
      "Total params: 4,246,549\n",
      "Trainable params: 4,246,549\n",
      "Non-trainable params: 0\n",
      "_________________________________________________________________\n"
     ]
    }
   ],
   "source": [
    "# Clear clutter from previous Keras session graphs.\n",
    "clear_session()\n",
    "\n",
    "x_train, x_test, y_train, y_test = train_test_split(train_scaled, y, test_size=0.2, random_state=42)\n",
    "\n",
    "\n",
    "\n",
    "model = Sequential()\n",
    "model.add(Dense(units=1024, input_shape=(36,), kernel_initializer='he_uniform'))\n",
    "model.add(Dense(1024, activation='relu', kernel_regularizer=regularizers.l2(0.01)))\n",
    "model.add(Dropout(0.15))\n",
    "model.add(Dense(1024, activation='relu', kernel_regularizer=regularizers.l2(0.01)))\n",
    "model.add(Dense(1024, activation='relu', kernel_regularizer=regularizers.l2(0.01)))\n",
    "model.add(Dropout(0.15))\n",
    "model.add(Dense(1024, activation='relu', kernel_regularizer=regularizers.l2(0.01)))\n",
    "model.add(Dense(10, activation='relu'))    \n",
    "model.add(Dense(1, activation=\"sigmoid\"))\n",
    "\n",
    "model.compile(\n",
    "    loss=\"binary_crossentropy\", optimizer=Adam(), metrics=['accuracy', P, R, F]\n",
    ")\n",
    "\n",
    "model.summary()\n"
   ]
  },
  {
   "cell_type": "code",
   "execution_count": 94,
   "metadata": {},
   "outputs": [
    {
     "name": "stdout",
     "output_type": "stream",
     "text": [
      "Epoch 1/10\n",
      "678/678 [==============================] - 6s 9ms/step - loss: 1.5656 - accuracy: 0.9208 - P: 0.1586 - R: 0.6115 - F: nan - val_loss: 0.2888 - val_accuracy: 0.9236 - val_P: 0.2019 - val_R: 0.5866 - val_F: nan\n",
      "Epoch 2/10\n",
      "678/678 [==============================] - 6s 8ms/step - loss: 0.2727 - accuracy: 0.9221 - P: 0.2171 - R: 0.5158 - F: nan - val_loss: 0.2479 - val_accuracy: 0.9301 - val_P: 0.2440 - val_R: 0.5443 - val_F: nan\n",
      "Epoch 3/10\n",
      "678/678 [==============================] - 6s 8ms/step - loss: 0.2563 - accuracy: 0.9252 - P: 0.2300 - R: 0.4853 - F: nan - val_loss: 0.2471 - val_accuracy: 0.9304 - val_P: 0.2033 - val_R: 0.5950 - val_F: nan\n",
      "Epoch 4/10\n",
      "678/678 [==============================] - 6s 8ms/step - loss: 0.2506 - accuracy: 0.9252 - P: 0.2415 - R: 0.4802 - F: nan - val_loss: 0.2378 - val_accuracy: 0.9295 - val_P: 0.2732 - val_R: 0.4815 - val_F: nan\n",
      "Epoch 5/10\n",
      "678/678 [==============================] - 6s 8ms/step - loss: 0.2500 - accuracy: 0.9250 - P: 0.2321 - R: 0.4794 - F: nan - val_loss: 0.2384 - val_accuracy: 0.9308 - val_P: 0.2417 - val_R: 0.5090 - val_F: nan\n",
      "Epoch 6/10\n",
      "678/678 [==============================] - 6s 8ms/step - loss: 0.2453 - accuracy: 0.9272 - P: 0.2333 - R: 0.4975 - F: nan - val_loss: 0.2438 - val_accuracy: 0.9280 - val_P: 0.2805 - val_R: 0.4148 - val_F: nan\n",
      "Epoch 7/10\n",
      "678/678 [==============================] - 6s 8ms/step - loss: 0.2434 - accuracy: 0.9270 - P: 0.2299 - R: 0.5368 - F: nan - val_loss: 0.2378 - val_accuracy: 0.9304 - val_P: 0.2519 - val_R: 0.4965 - val_F: nan\n",
      "Epoch 8/10\n",
      "678/678 [==============================] - 6s 8ms/step - loss: 0.2426 - accuracy: 0.9265 - P: 0.2293 - R: 0.5400 - F: nan - val_loss: 0.2341 - val_accuracy: 0.9306 - val_P: 0.2545 - val_R: 0.4949 - val_F: nan\n",
      "Epoch 9/10\n",
      "678/678 [==============================] - 6s 8ms/step - loss: 0.2413 - accuracy: 0.9267 - P: 0.2361 - R: 0.5379 - F: nan - val_loss: 0.2314 - val_accuracy: 0.9306 - val_P: 0.2025 - val_R: 0.5707 - val_F: nan\n",
      "Epoch 10/10\n",
      "678/678 [==============================] - 6s 8ms/step - loss: 0.2407 - accuracy: 0.9259 - P: 0.2204 - R: 0.5582 - F: nan - val_loss: 0.2335 - val_accuracy: 0.9306 - val_P: 0.2260 - val_R: 0.5404 - val_F: nan\n"
     ]
    }
   ],
   "source": [
    "history = model.fit(\n",
    "    x_train,\n",
    "    y_train,\n",
    "    validation_data=(x_test, y_test),\n",
    "    shuffle=True,\n",
    "    batch_size=BATCHSIZE,\n",
    "    epochs=EPOCHS,\n",
    "    verbose=1,\n",
    ")\n"
   ]
  },
  {
   "cell_type": "code",
   "execution_count": 95,
   "metadata": {},
   "outputs": [
    {
     "name": "stdout",
     "output_type": "stream",
     "text": [
      "Test loss: 0.23354940116405487\n",
      "Test accuracy: 0.9306272864341736\n",
      "Test precision: 0.22600001096725464\n",
      "Test recall: 0.5403921604156494\n",
      "Test f1_score: nan\n"
     ]
    },
    {
     "data": {
      "image/png": "[encoded data removed]",
      "text/plain": [
       "<Figure size 432x288 with 1 Axes>"
      ]
     },
     "metadata": {
      "needs_background": "light"
     },
     "output_type": "display_data"
    },
    {
     "data": {
      "image/png": "[encoded data removed]",
      "text/plain": [
       "<Figure size 432x288 with 1 Axes>"
      ]
     },
     "metadata": {
      "needs_background": "light"
     },
     "output_type": "display_data"
    }
   ],
   "source": [
    "# Evaluate the model accuracy on the test set.\n",
    "loss, accuracy, precision, recall, f1_score = model.evaluate(x_test, y_test, verbose=0)\n",
    "\n",
    "score = model.evaluate(x_test, y_test, verbose=0)\n",
    "print('Test loss:', loss)\n",
    "print('Test accuracy:', accuracy)\n",
    "print('Test precision:', precision)\n",
    "print('Test recall:', recall)\n",
    "print('Test f1_score:', f1_score)\n",
    "\n",
    "# Plot training & validation accuracy values\n",
    "plt.plot(history.history['accuracy'])\n",
    "plt.plot(history.history['val_accuracy'])\n",
    "plt.title('Model accuracy')\n",
    "plt.ylabel('Accuracy')\n",
    "plt.xlabel('Epoch')\n",
    "plt.legend(['Train', 'Test'], loc='upper left')\n",
    "plt.show()\n",
    "\n",
    "# Plot training & validation loss values\n",
    "plt.plot(history.history['loss'])\n",
    "plt.plot(history.history['val_loss'])\n",
    "plt.title('Model loss')\n",
    "plt.ylabel('Loss')\n",
    "plt.xlabel('Epoch')\n",
    "plt.legend(['Train', 'Test'], loc='upper left')\n",
    "plt.show()"
   ]
  },
  {
   "cell_type": "code",
   "execution_count": 96,
   "metadata": {},
   "outputs": [],
   "source": [
    "test_pred = model.predict(test_df)"
   ]
  },
  {
   "cell_type": "code",
   "execution_count": 97,
   "metadata": {},
   "outputs": [],
   "source": [
    "submit_df[1] = test_pred\n",
    "submit_df.to_csv('submit.csv', header=False, index=False)"
   ]
  }
 ],
 "metadata": {
  "kernelspec": {
   "display_name": "tensorflow",
   "language": "python",
   "name": "tensorflow"
  },
  "language_info": {
   "codemirror_mode": {
    "name": "ipython",
    "version": 3
   },
   "file_extension": ".py",
   "mimetype": "text/x-python",
   "name": "python",
   "nbconvert_exporter": "python",
   "pygments_lexer": "ipython3",
   "version": "3.6.9"
  }
 },
 "nbformat": 4,
 "nbformat_minor": 4
}
