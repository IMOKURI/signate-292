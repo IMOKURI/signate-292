{
 "cells": [
  {
   "cell_type": "markdown",
   "metadata": {},
   "source": [
    "# 【第1回_Beginner限定コンペ】銀行の顧客ターゲティング\n",
    "\n",
    "顧客の属性情報などから定期預金キャンペーンの反応率を予測しよう。\n",
    "\n",
    "https://signate.jp/competitions/292\n",
    "\n",
    "Neural Network編"
   ]
  },
  {
   "cell_type": "markdown",
   "metadata": {},
   "source": [
    "## ライブラリインポート"
   ]
  },
  {
   "cell_type": "code",
   "execution_count": 1,
   "metadata": {},
   "outputs": [],
   "source": [
    "import numpy as np\n",
    "import pandas as pd\n",
    "import matplotlib.pyplot as plt\n",
    "import seaborn as sns\n",
    "%matplotlib inline\n",
    "\n",
    "import optuna\n",
    "#from bayes_opt import BayesianOptimization\n",
    "\n",
    "import tensorflow as tf\n",
    "\n",
    "from tensorflow.keras import regularizers\n",
    "from tensorflow.keras import losses\n",
    "from tensorflow.keras import backend as K\n",
    "from tensorflow.keras.backend import clear_session\n",
    "from tensorflow.keras.callbacks import EarlyStopping\n",
    "from tensorflow.keras.layers import Activation, Dense, Dropout, Input, Embedding, Flatten, Concatenate\n",
    "from tensorflow.keras.models import Sequential, Model\n",
    "from tensorflow.keras.metrics import AUC\n",
    "from tensorflow.keras.optimizers import Adam\n",
    "\n",
    "from sklearn import preprocessing\n",
    "from sklearn.model_selection import train_test_split, KFold, StratifiedKFold\n",
    "from sklearn.metrics import accuracy_score, recall_score, precision_score, f1_score"
   ]
  },
  {
   "cell_type": "code",
   "execution_count": 2,
   "metadata": {},
   "outputs": [],
   "source": [
    "# Random Seed 固定\n",
    "\n",
    "np.random.seed(22)\n",
    "tf.random.set_seed(22)\n"
   ]
  },
  {
   "cell_type": "markdown",
   "metadata": {},
   "source": [
    "## 関数"
   ]
  },
  {
   "cell_type": "code",
   "execution_count": 3,
   "metadata": {},
   "outputs": [],
   "source": [
    "def reduce_mem_usage(df):\n",
    "    start_mem = df.memory_usage().sum() / 1024**2\n",
    "    print('Memory usage of dataframe is {:.2f} MB'.format(start_mem))\n",
    "\n",
    "    for col in df.columns:\n",
    "        col_type = df[col].dtype\n",
    "\n",
    "        if col_type != object:\n",
    "            c_min = df[col].min()\n",
    "            c_max = df[col].max()\n",
    "            if str(col_type)[:3] == 'int':\n",
    "                if c_min > np.iinfo(np.int8).min and c_max < np.iinfo(np.int8).max:\n",
    "                    df[col] = df[col].astype(np.int8)\n",
    "                elif c_min > np.iinfo(np.int16).min and c_max < np.iinfo(np.int16).max:\n",
    "                    df[col] = df[col].astype(np.int16)\n",
    "                elif c_min > np.iinfo(np.int32).min and c_max < np.iinfo(np.int32).max:\n",
    "                    df[col] = df[col].astype(np.int32)\n",
    "                elif c_min > np.iinfo(np.int64).min and c_max < np.iinfo(np.int64).max:\n",
    "                    df[col] = df[col].astype(np.int64)  \n",
    "            else:\n",
    "                if c_min > np.finfo(np.float16).min and c_max < np.finfo(np.float16).max:\n",
    "                    df[col] = df[col].astype(np.float16)\n",
    "                elif c_min > np.finfo(np.float32).min and c_max < np.finfo(np.float32).max:\n",
    "                    df[col] = df[col].astype(np.float32)\n",
    "                else:\n",
    "                    df[col] = df[col].astype(np.float64)\n",
    "        else:\n",
    "            df[col] = df[col].astype('category')\n",
    "\n",
    "    end_mem = df.memory_usage().sum() / 1024**2\n",
    "    print('Memory usage after optimization is: {:.2f} MB'.format(end_mem))\n",
    "    print('Decreased by {:.1f}%'.format(100 * (start_mem - end_mem) / start_mem))\n",
    "\n",
    "    return df"
   ]
  },
  {
   "cell_type": "code",
   "execution_count": 4,
   "metadata": {},
   "outputs": [],
   "source": [
    "def df_stats(df):\n",
    "    stats = []\n",
    "    for col in df.columns:\n",
    "        stats.append((col,\n",
    "                      df[col].nunique(),\n",
    "                      df[col].value_counts().index[0],\n",
    "                      df[col].value_counts().values[0],\n",
    "                      df[col].isnull().sum() * 100 / df.shape[0],\n",
    "                      df[col].value_counts(normalize=True, dropna=False).values[0] * 100,\n",
    "                      df[col].dtype))\n",
    "    return pd.DataFrame(stats, columns=['カラム名', 'カラムごとのユニーク値数', '最も出現頻度の高い値', '最も出現頻度の高い値の出現回数', '欠損損値の割合', '最も多いカテゴリの割合', 'Type'])"
   ]
  },
  {
   "cell_type": "markdown",
   "metadata": {},
   "source": [
    "## データ読み込み・前処理"
   ]
  },
  {
   "cell_type": "code",
   "execution_count": 5,
   "metadata": {},
   "outputs": [],
   "source": [
    "train_df = pd.read_csv('train.csv')\n",
    "test_df = pd.read_csv('test.csv')\n",
    "submit_df = pd.read_csv('submit_sample.csv', header=None)\n",
    "\n",
    "# Pseudo Labeling\n",
    "test_p1_df = pd.read_csv('test_p1.csv')"
   ]
  },
  {
   "cell_type": "code",
   "execution_count": 6,
   "metadata": {},
   "outputs": [],
   "source": [
    "# Pseudo Labeling\n",
    "train_df = pd.concat([train_df, test_p1_df])"
   ]
  },
  {
   "cell_type": "code",
   "execution_count": 7,
   "metadata": {},
   "outputs": [],
   "source": [
    "df_list = [train_df, test_df]\n",
    "\n",
    "for df in df_list:\n",
    "    df['job'] = df['job'].map({'unknown': 1, 'technician': 2, 'blue-collar': 3, 'services': 4, 'entrepreneur': 5, 'admin.': 6, 'management': 7, 'housemaid': 8, 'self-employed': 9, 'unemployed': 10, 'retired': 11, 'student': 12})\n",
    "    \n",
    "    df['marital'] = df['marital'].map({'married': 2, 'divorced':1, 'single': 0})\n",
    "    #df.drop(['marital'], axis=1, inplace=True)\n",
    "\n",
    "    df['education'] = df['education'].map({'tertiary': 3, 'secondary': 2, 'primary': 1, 'unknown': 0})\n",
    "    #df.drop(['education'], axis=1, inplace=True)\n",
    "\n",
    "    #df['default'] = df['default'].map({'yes': 1, 'no': 0})\n",
    "    df.drop(['default'], axis=1, inplace=True)\n",
    "\n",
    "    df['housing'] = df['housing'].map({'yes': 1, 'no': 0})\n",
    "    #df.drop(['housing'], axis=1, inplace=True)\n",
    "    \n",
    "    df['loan'] = df['loan'].map({'yes': 1, 'no': 0})\n",
    "    #df.drop(['loan'], axis=1, inplace=True)\n",
    "\n",
    "    df['contact'] = df['contact'].map({'telephone': 2, 'cellular': 1, 'unknown': 0})\n",
    "    #df.drop(['contact'], axis=1, inplace=True)\n",
    "\n",
    "    df['poutcome'] = df['poutcome'].map({'success': 3, 'unknown': 2, 'failure': 1, 'other': 0})\n",
    "    #df['p_label_mean'] = np.log(df['poutcome'].map(p_label_mean))\n",
    "    #df.drop(['poutcome'], axis=1, inplace=True)\n",
    "    \n",
    "    df['month'] = df['month'].map({'jan': 1, 'feb': 2, 'mar': 3, 'apr': 4, 'may': 5, 'jun': 6, 'jul': 7, 'aug': 8, 'sep': 9, 'oct': 10, 'nov': 11, 'dec': 12})\n",
    "    #df.drop(['day', 'month'], axis=1, inplace=True)\n",
    "    \n",
    "    # Feb 30 とかあって、正確には変換できない\n",
    "    # → データの Feb 30 を Mar 1 に変換した(他にも、 2/31, 6/31, 11/31)\n",
    "    #df['dayofyear'] = df['month'] * 31 + df['day']\n",
    "    df['datetime'] = pd.to_datetime('2012/' + df['month'].astype(str).str.pad(2,fillchar='0') + '/' + df['day'].astype(str).str.pad(2,fillchar='0'), format='%Y/%m/%d')\n",
    "    df['dayofyear'] = df['datetime'].dt.dayofyear\n",
    "    #df['dayofweek'] = df['datetime'].dt.dayofweek\n",
    "    df.drop(['datetime'], axis=1, inplace=True)\n",
    "\n",
    "    df['duration'] = np.log(df['duration'] + 1)\n",
    "\n",
    "    #df['bpp'] = np.log((df['balance'] - df['balance'].min()) / (df['pdays'] + 2) + 1)\n",
    "    #df['cdp'] = (df['campaign'] - df['previous']) * df['duration']\n",
    "    \n",
    "    df.drop(['pdays'], axis=1, inplace=True)\n",
    "    df.drop(['balance'], axis=1, inplace=True)\n",
    "    \n",
    "    df.drop(['id'], axis=1, inplace=True)"
   ]
  },
  {
   "cell_type": "code",
   "execution_count": 8,
   "metadata": {},
   "outputs": [],
   "source": [
    "y = train_df.pop('y')"
   ]
  },
  {
   "cell_type": "code",
   "execution_count": 9,
   "metadata": {},
   "outputs": [
    {
     "name": "stdout",
     "output_type": "stream",
     "text": [
      "Memory usage of dataframe is 5.17 MB\n",
      "Memory usage after optimization is: 1.03 MB\n",
      "Decreased by 80.0%\n",
      "Memory usage of dataframe is 1.93 MB\n",
      "Memory usage after optimization is: 0.28 MB\n",
      "Decreased by 85.7%\n"
     ]
    }
   ],
   "source": [
    "train_df = reduce_mem_usage(train_df)\n",
    "test_df = reduce_mem_usage(test_df)"
   ]
  },
  {
   "cell_type": "code",
   "execution_count": 10,
   "metadata": {},
   "outputs": [
    {
     "name": "stdout",
     "output_type": "stream",
     "text": [
      "<class 'pandas.core.frame.DataFrame'>\n",
      "Int64Index: 45150 entries, 0 to 18049\n",
      "Data columns (total 14 columns):\n",
      " #   Column     Non-Null Count  Dtype  \n",
      "---  ------     --------------  -----  \n",
      " 0   age        45150 non-null  int8   \n",
      " 1   job        45150 non-null  int8   \n",
      " 2   marital    45150 non-null  int8   \n",
      " 3   education  45150 non-null  int8   \n",
      " 4   housing    45150 non-null  int8   \n",
      " 5   loan       45150 non-null  int8   \n",
      " 6   contact    45150 non-null  int8   \n",
      " 7   day        45150 non-null  int8   \n",
      " 8   month      45150 non-null  int8   \n",
      " 9   duration   45150 non-null  float16\n",
      " 10  campaign   45150 non-null  int8   \n",
      " 11  previous   45150 non-null  int8   \n",
      " 12  poutcome   45150 non-null  int8   \n",
      " 13  dayofyear  45150 non-null  int16  \n",
      "dtypes: float16(1), int16(1), int8(12)\n",
      "memory usage: 1.0 MB\n"
     ]
    }
   ],
   "source": [
    "train_df.info()"
   ]
  },
  {
   "cell_type": "code",
   "execution_count": 11,
   "metadata": {},
   "outputs": [
    {
     "data": {
      "text/html": [
       "<div>\n",
       "<style scoped>\n",
       "    .dataframe tbody tr th:only-of-type {\n",
       "        vertical-align: middle;\n",
       "    }\n",
       "\n",
       "    .dataframe tbody tr th {\n",
       "        vertical-align: top;\n",
       "    }\n",
       "\n",
       "    .dataframe thead th {\n",
       "        text-align: right;\n",
       "    }\n",
       "</style>\n",
       "<table border=\"1\" class=\"dataframe\">\n",
       "  <thead>\n",
       "    <tr style=\"text-align: right;\">\n",
       "      <th></th>\n",
       "      <th>age</th>\n",
       "      <th>job</th>\n",
       "      <th>marital</th>\n",
       "      <th>education</th>\n",
       "      <th>housing</th>\n",
       "      <th>loan</th>\n",
       "      <th>contact</th>\n",
       "      <th>day</th>\n",
       "      <th>month</th>\n",
       "      <th>duration</th>\n",
       "      <th>campaign</th>\n",
       "      <th>previous</th>\n",
       "      <th>poutcome</th>\n",
       "      <th>dayofyear</th>\n",
       "    </tr>\n",
       "  </thead>\n",
       "  <tbody>\n",
       "    <tr>\n",
       "      <th>count</th>\n",
       "      <td>45150.000000</td>\n",
       "      <td>45150.000000</td>\n",
       "      <td>45150.000000</td>\n",
       "      <td>45150.000000</td>\n",
       "      <td>45150.000000</td>\n",
       "      <td>45150.000000</td>\n",
       "      <td>45150.000000</td>\n",
       "      <td>45150.000000</td>\n",
       "      <td>45150.000000</td>\n",
       "      <td>4.515000e+04</td>\n",
       "      <td>45150.000000</td>\n",
       "      <td>45150.000000</td>\n",
       "      <td>45150.000000</td>\n",
       "      <td>45150.000000</td>\n",
       "    </tr>\n",
       "    <tr>\n",
       "      <th>mean</th>\n",
       "      <td>36.085670</td>\n",
       "      <td>5.139668</td>\n",
       "      <td>1.384563</td>\n",
       "      <td>2.043477</td>\n",
       "      <td>0.581107</td>\n",
       "      <td>0.127796</td>\n",
       "      <td>0.786401</td>\n",
       "      <td>16.699446</td>\n",
       "      <td>6.001617</td>\n",
       "      <td>inf</td>\n",
       "      <td>1.773533</td>\n",
       "      <td>0.087774</td>\n",
       "      <td>1.856633</td>\n",
       "      <td>168.562769</td>\n",
       "    </tr>\n",
       "    <tr>\n",
       "      <th>std</th>\n",
       "      <td>7.835323</td>\n",
       "      <td>2.662201</td>\n",
       "      <td>0.872828</td>\n",
       "      <td>0.723352</td>\n",
       "      <td>0.493383</td>\n",
       "      <td>0.333866</td>\n",
       "      <td>0.501080</td>\n",
       "      <td>8.577737</td>\n",
       "      <td>2.128473</td>\n",
       "      <td>7.763672e-01</td>\n",
       "      <td>0.947974</td>\n",
       "      <td>0.369888</td>\n",
       "      <td>0.465919</td>\n",
       "      <td>64.939227</td>\n",
       "    </tr>\n",
       "    <tr>\n",
       "      <th>min</th>\n",
       "      <td>20.000000</td>\n",
       "      <td>1.000000</td>\n",
       "      <td>0.000000</td>\n",
       "      <td>0.000000</td>\n",
       "      <td>0.000000</td>\n",
       "      <td>0.000000</td>\n",
       "      <td>0.000000</td>\n",
       "      <td>1.000000</td>\n",
       "      <td>1.000000</td>\n",
       "      <td>0.000000e+00</td>\n",
       "      <td>1.000000</td>\n",
       "      <td>0.000000</td>\n",
       "      <td>0.000000</td>\n",
       "      <td>3.000000</td>\n",
       "    </tr>\n",
       "    <tr>\n",
       "      <th>25%</th>\n",
       "      <td>31.000000</td>\n",
       "      <td>3.000000</td>\n",
       "      <td>0.000000</td>\n",
       "      <td>2.000000</td>\n",
       "      <td>0.000000</td>\n",
       "      <td>0.000000</td>\n",
       "      <td>0.000000</td>\n",
       "      <td>8.000000</td>\n",
       "      <td>5.000000</td>\n",
       "      <td>4.804688e+00</td>\n",
       "      <td>1.000000</td>\n",
       "      <td>0.000000</td>\n",
       "      <td>2.000000</td>\n",
       "      <td>136.000000</td>\n",
       "    </tr>\n",
       "    <tr>\n",
       "      <th>50%</th>\n",
       "      <td>33.000000</td>\n",
       "      <td>5.000000</td>\n",
       "      <td>2.000000</td>\n",
       "      <td>2.000000</td>\n",
       "      <td>1.000000</td>\n",
       "      <td>0.000000</td>\n",
       "      <td>1.000000</td>\n",
       "      <td>17.000000</td>\n",
       "      <td>5.000000</td>\n",
       "      <td>5.070312e+00</td>\n",
       "      <td>1.000000</td>\n",
       "      <td>0.000000</td>\n",
       "      <td>2.000000</td>\n",
       "      <td>148.000000</td>\n",
       "    </tr>\n",
       "    <tr>\n",
       "      <th>75%</th>\n",
       "      <td>37.000000</td>\n",
       "      <td>7.000000</td>\n",
       "      <td>2.000000</td>\n",
       "      <td>2.000000</td>\n",
       "      <td>1.000000</td>\n",
       "      <td>0.000000</td>\n",
       "      <td>1.000000</td>\n",
       "      <td>26.000000</td>\n",
       "      <td>7.000000</td>\n",
       "      <td>5.847656e+00</td>\n",
       "      <td>2.000000</td>\n",
       "      <td>0.000000</td>\n",
       "      <td>2.000000</td>\n",
       "      <td>199.000000</td>\n",
       "    </tr>\n",
       "    <tr>\n",
       "      <th>max</th>\n",
       "      <td>90.000000</td>\n",
       "      <td>12.000000</td>\n",
       "      <td>2.000000</td>\n",
       "      <td>3.000000</td>\n",
       "      <td>1.000000</td>\n",
       "      <td>1.000000</td>\n",
       "      <td>2.000000</td>\n",
       "      <td>31.000000</td>\n",
       "      <td>12.000000</td>\n",
       "      <td>8.031250e+00</td>\n",
       "      <td>5.000000</td>\n",
       "      <td>3.000000</td>\n",
       "      <td>3.000000</td>\n",
       "      <td>336.000000</td>\n",
       "    </tr>\n",
       "  </tbody>\n",
       "</table>\n",
       "</div>"
      ],
      "text/plain": [
       "                age           job       marital     education       housing  \\\n",
       "count  45150.000000  45150.000000  45150.000000  45150.000000  45150.000000   \n",
       "mean      36.085670      5.139668      1.384563      2.043477      0.581107   \n",
       "std        7.835323      2.662201      0.872828      0.723352      0.493383   \n",
       "min       20.000000      1.000000      0.000000      0.000000      0.000000   \n",
       "25%       31.000000      3.000000      0.000000      2.000000      0.000000   \n",
       "50%       33.000000      5.000000      2.000000      2.000000      1.000000   \n",
       "75%       37.000000      7.000000      2.000000      2.000000      1.000000   \n",
       "max       90.000000     12.000000      2.000000      3.000000      1.000000   \n",
       "\n",
       "               loan       contact           day         month      duration  \\\n",
       "count  45150.000000  45150.000000  45150.000000  45150.000000  4.515000e+04   \n",
       "mean       0.127796      0.786401     16.699446      6.001617           inf   \n",
       "std        0.333866      0.501080      8.577737      2.128473  7.763672e-01   \n",
       "min        0.000000      0.000000      1.000000      1.000000  0.000000e+00   \n",
       "25%        0.000000      0.000000      8.000000      5.000000  4.804688e+00   \n",
       "50%        0.000000      1.000000     17.000000      5.000000  5.070312e+00   \n",
       "75%        0.000000      1.000000     26.000000      7.000000  5.847656e+00   \n",
       "max        1.000000      2.000000     31.000000     12.000000  8.031250e+00   \n",
       "\n",
       "           campaign      previous      poutcome     dayofyear  \n",
       "count  45150.000000  45150.000000  45150.000000  45150.000000  \n",
       "mean       1.773533      0.087774      1.856633    168.562769  \n",
       "std        0.947974      0.369888      0.465919     64.939227  \n",
       "min        1.000000      0.000000      0.000000      3.000000  \n",
       "25%        1.000000      0.000000      2.000000    136.000000  \n",
       "50%        1.000000      0.000000      2.000000    148.000000  \n",
       "75%        2.000000      0.000000      2.000000    199.000000  \n",
       "max        5.000000      3.000000      3.000000    336.000000  "
      ]
     },
     "execution_count": 11,
     "metadata": {},
     "output_type": "execute_result"
    }
   ],
   "source": [
    "train_df.describe()"
   ]
  },
  {
   "cell_type": "code",
   "execution_count": 12,
   "metadata": {},
   "outputs": [
    {
     "data": {
      "text/html": [
       "<div>\n",
       "<style scoped>\n",
       "    .dataframe tbody tr th:only-of-type {\n",
       "        vertical-align: middle;\n",
       "    }\n",
       "\n",
       "    .dataframe tbody tr th {\n",
       "        vertical-align: top;\n",
       "    }\n",
       "\n",
       "    .dataframe thead th {\n",
       "        text-align: right;\n",
       "    }\n",
       "</style>\n",
       "<table border=\"1\" class=\"dataframe\">\n",
       "  <thead>\n",
       "    <tr style=\"text-align: right;\">\n",
       "      <th></th>\n",
       "      <th>カラム名</th>\n",
       "      <th>カラムごとのユニーク値数</th>\n",
       "      <th>最も出現頻度の高い値</th>\n",
       "      <th>最も出現頻度の高い値の出現回数</th>\n",
       "      <th>欠損損値の割合</th>\n",
       "      <th>最も多いカテゴリの割合</th>\n",
       "      <th>Type</th>\n",
       "    </tr>\n",
       "  </thead>\n",
       "  <tbody>\n",
       "    <tr>\n",
       "      <th>0</th>\n",
       "      <td>age</td>\n",
       "      <td>43</td>\n",
       "      <td>31.000000</td>\n",
       "      <td>7532</td>\n",
       "      <td>0.0</td>\n",
       "      <td>16.682171</td>\n",
       "      <td>int8</td>\n",
       "    </tr>\n",
       "    <tr>\n",
       "      <th>1</th>\n",
       "      <td>job</td>\n",
       "      <td>12</td>\n",
       "      <td>3.000000</td>\n",
       "      <td>10043</td>\n",
       "      <td>0.0</td>\n",
       "      <td>22.243632</td>\n",
       "      <td>int8</td>\n",
       "    </tr>\n",
       "    <tr>\n",
       "      <th>2</th>\n",
       "      <td>marital</td>\n",
       "      <td>3</td>\n",
       "      <td>2.000000</td>\n",
       "      <td>29218</td>\n",
       "      <td>0.0</td>\n",
       "      <td>64.713178</td>\n",
       "      <td>int8</td>\n",
       "    </tr>\n",
       "    <tr>\n",
       "      <th>3</th>\n",
       "      <td>education</td>\n",
       "      <td>4</td>\n",
       "      <td>2.000000</td>\n",
       "      <td>26754</td>\n",
       "      <td>0.0</td>\n",
       "      <td>59.255814</td>\n",
       "      <td>int8</td>\n",
       "    </tr>\n",
       "    <tr>\n",
       "      <th>4</th>\n",
       "      <td>housing</td>\n",
       "      <td>2</td>\n",
       "      <td>1.000000</td>\n",
       "      <td>26237</td>\n",
       "      <td>0.0</td>\n",
       "      <td>58.110742</td>\n",
       "      <td>int8</td>\n",
       "    </tr>\n",
       "    <tr>\n",
       "      <th>5</th>\n",
       "      <td>loan</td>\n",
       "      <td>2</td>\n",
       "      <td>0.000000</td>\n",
       "      <td>39380</td>\n",
       "      <td>0.0</td>\n",
       "      <td>87.220377</td>\n",
       "      <td>int8</td>\n",
       "    </tr>\n",
       "    <tr>\n",
       "      <th>6</th>\n",
       "      <td>contact</td>\n",
       "      <td>3</td>\n",
       "      <td>1.000000</td>\n",
       "      <td>31754</td>\n",
       "      <td>0.0</td>\n",
       "      <td>70.330011</td>\n",
       "      <td>int8</td>\n",
       "    </tr>\n",
       "    <tr>\n",
       "      <th>7</th>\n",
       "      <td>day</td>\n",
       "      <td>30</td>\n",
       "      <td>27.000000</td>\n",
       "      <td>6903</td>\n",
       "      <td>0.0</td>\n",
       "      <td>15.289037</td>\n",
       "      <td>int8</td>\n",
       "    </tr>\n",
       "    <tr>\n",
       "      <th>8</th>\n",
       "      <td>month</td>\n",
       "      <td>12</td>\n",
       "      <td>5.000000</td>\n",
       "      <td>18818</td>\n",
       "      <td>0.0</td>\n",
       "      <td>41.678848</td>\n",
       "      <td>int8</td>\n",
       "    </tr>\n",
       "    <tr>\n",
       "      <th>9</th>\n",
       "      <td>duration</td>\n",
       "      <td>156</td>\n",
       "      <td>5.070312</td>\n",
       "      <td>9509</td>\n",
       "      <td>0.0</td>\n",
       "      <td>21.060908</td>\n",
       "      <td>float16</td>\n",
       "    </tr>\n",
       "    <tr>\n",
       "      <th>10</th>\n",
       "      <td>campaign</td>\n",
       "      <td>5</td>\n",
       "      <td>1.000000</td>\n",
       "      <td>22960</td>\n",
       "      <td>0.0</td>\n",
       "      <td>50.852713</td>\n",
       "      <td>int8</td>\n",
       "    </tr>\n",
       "    <tr>\n",
       "      <th>11</th>\n",
       "      <td>previous</td>\n",
       "      <td>4</td>\n",
       "      <td>0.000000</td>\n",
       "      <td>42346</td>\n",
       "      <td>0.0</td>\n",
       "      <td>93.789590</td>\n",
       "      <td>int8</td>\n",
       "    </tr>\n",
       "    <tr>\n",
       "      <th>12</th>\n",
       "      <td>poutcome</td>\n",
       "      <td>4</td>\n",
       "      <td>2.000000</td>\n",
       "      <td>38525</td>\n",
       "      <td>0.0</td>\n",
       "      <td>85.326689</td>\n",
       "      <td>int8</td>\n",
       "    </tr>\n",
       "    <tr>\n",
       "      <th>13</th>\n",
       "      <td>dayofyear</td>\n",
       "      <td>263</td>\n",
       "      <td>148.000000</td>\n",
       "      <td>6849</td>\n",
       "      <td>0.0</td>\n",
       "      <td>15.169435</td>\n",
       "      <td>int16</td>\n",
       "    </tr>\n",
       "  </tbody>\n",
       "</table>\n",
       "</div>"
      ],
      "text/plain": [
       "         カラム名  カラムごとのユニーク値数  最も出現頻度の高い値  最も出現頻度の高い値の出現回数  欠損損値の割合  \\\n",
       "0         age            43   31.000000             7532      0.0   \n",
       "1         job            12    3.000000            10043      0.0   \n",
       "2     marital             3    2.000000            29218      0.0   \n",
       "3   education             4    2.000000            26754      0.0   \n",
       "4     housing             2    1.000000            26237      0.0   \n",
       "5        loan             2    0.000000            39380      0.0   \n",
       "6     contact             3    1.000000            31754      0.0   \n",
       "7         day            30   27.000000             6903      0.0   \n",
       "8       month            12    5.000000            18818      0.0   \n",
       "9    duration           156    5.070312             9509      0.0   \n",
       "10   campaign             5    1.000000            22960      0.0   \n",
       "11   previous             4    0.000000            42346      0.0   \n",
       "12   poutcome             4    2.000000            38525      0.0   \n",
       "13  dayofyear           263  148.000000             6849      0.0   \n",
       "\n",
       "    最も多いカテゴリの割合     Type  \n",
       "0     16.682171     int8  \n",
       "1     22.243632     int8  \n",
       "2     64.713178     int8  \n",
       "3     59.255814     int8  \n",
       "4     58.110742     int8  \n",
       "5     87.220377     int8  \n",
       "6     70.330011     int8  \n",
       "7     15.289037     int8  \n",
       "8     41.678848     int8  \n",
       "9     21.060908  float16  \n",
       "10    50.852713     int8  \n",
       "11    93.789590     int8  \n",
       "12    85.326689     int8  \n",
       "13    15.169435    int16  "
      ]
     },
     "execution_count": 12,
     "metadata": {},
     "output_type": "execute_result"
    }
   ],
   "source": [
    "df_stats(train_df)"
   ]
  },
  {
   "cell_type": "markdown",
   "metadata": {},
   "source": [
    "## 学習関数"
   ]
  },
  {
   "cell_type": "code",
   "execution_count": 13,
   "metadata": {},
   "outputs": [],
   "source": [
    "class Objective():\n",
    "    def __init__(self):\n",
    "        self.best_boosters = None\n",
    "        self._boosters = None\n",
    "\n",
    "    def __call__(self, trial):\n",
    "        dim_age = trial.suggest_int('dim_age', 1, 90)\n",
    "        dim_job = trial.suggest_int('dim_job', 1, 12)\n",
    "        dim_day = trial.suggest_int('dim_day', 1, 31)\n",
    "        dim_duration = trial.suggest_int('dim_duration', 1, 10)\n",
    "        dim_dayofyear = trial.suggest_int('dim_dayofyear', 10, 200)\n",
    "\n",
    "        kf = StratifiedKFold(n_splits=5, shuffle=True, random_state=22)\n",
    "        val_aucs = []\n",
    "        self._boosters = []\n",
    "        \n",
    "        for train_index, val_index in kf.split(train_df, y):\n",
    "            # 学習データ分割\n",
    "            train_data = train_df.iloc[train_index]\n",
    "            train_label = y.iloc[train_index]\n",
    "            val_data = train_df.iloc[val_index]\n",
    "            val_label = y.iloc[val_index]\n",
    "\n",
    "            train_x = {\n",
    "                \"input_age\": train_data[[\"age\"]],\n",
    "                \"input_job\": train_data[[\"job\"]],\n",
    "                \"input_marital\": train_data[[\"marital\"]],\n",
    "                'input_education': train_data[[\"education\"]],\n",
    "                \"input_housing\": train_data[[\"housing\"]],\n",
    "                \"input_loan\": train_data[[\"loan\"]],\n",
    "                \"input_contact\": train_data[[\"contact\"]],\n",
    "                \"input_day\": train_data[[\"day\"]],\n",
    "                \"input_month\": train_data[[\"month\"]],\n",
    "                \"input_campaign\": train_data[[\"campaign\"]],\n",
    "                \"input_previous\": train_data[[\"previous\"]],\n",
    "                \"input_poutcome\": train_data[[\"poutcome\"]],\n",
    "                \"input_duration\": train_data[[\"duration\"]],\n",
    "                \"input_dayofyear\": train_data[[\"dayofyear\"]],\n",
    "            #    \"input_cdp\": train_data[[\"cdp\"]],\n",
    "            }\n",
    "            \n",
    "            val_x = {\n",
    "                \"input_age\": val_data[[\"age\"]],\n",
    "                \"input_job\": val_data[[\"job\"]],\n",
    "                \"input_marital\": val_data[[\"marital\"]],\n",
    "                'input_education': val_data[[\"education\"]],\n",
    "                \"input_housing\": val_data[[\"housing\"]],\n",
    "                \"input_loan\": val_data[[\"loan\"]],\n",
    "                \"input_contact\": val_data[[\"contact\"]],\n",
    "                \"input_day\": val_data[[\"day\"]],\n",
    "                \"input_month\": val_data[[\"month\"]],\n",
    "                \"input_campaign\": val_data[[\"campaign\"]],\n",
    "                \"input_previous\": val_data[[\"previous\"]],\n",
    "                \"input_poutcome\": val_data[[\"poutcome\"]],\n",
    "                \"input_duration\": val_data[[\"duration\"]],\n",
    "                \"input_dayofyear\": val_data[[\"dayofyear\"]],\n",
    "            #    \"input_cdp\": val_data[[\"cdp\"]],\n",
    "            }\n",
    "\n",
    "            # Clear clutter from previous Keras session graphs.\n",
    "            clear_session()\n",
    "\n",
    "            # Entity Embedding\n",
    "            input_age = Input(shape=(1,), name=\"input_age\")\n",
    "            embed_age = Embedding(91, dim_age, name=\"embed_age\")(input_age)\n",
    "            flatt_age = Flatten(name=\"flatt_age\")(embed_age)\n",
    "\n",
    "            input_job = Input(shape=(1,), name=\"input_job\")\n",
    "            embed_job = Embedding(13, dim_job, name=\"embed_job\")(input_job)\n",
    "            flatt_job = Flatten(name=\"flatt_job\")(embed_job)\n",
    "\n",
    "            input_marital = Input(shape=(1,), name=\"input_marital\")\n",
    "            embed_marital = Embedding(3, 2, name=\"embed_marital\")(input_marital)\n",
    "            flatt_marital = Flatten(name=\"flatt_marital\")(embed_marital)\n",
    "\n",
    "            input_education = Input(shape=(1,), name=\"input_education\")\n",
    "            embed_education = Embedding(4, 3, name=\"embed_education\")(input_education)\n",
    "            flatt_education = Flatten(name=\"flatt_education\")(embed_education)\n",
    "\n",
    "            input_housing = Input(shape=(1,), name=\"input_housing\")\n",
    "            embed_housing = Embedding(2, 4, name=\"embed_housing\")(input_housing)\n",
    "            flatt_housing = Flatten(name=\"flatt_housing\")(embed_housing)\n",
    "\n",
    "            input_loan = Input(shape=(1,), name=\"input_loan\")\n",
    "            embed_loan = Embedding(2, 4, name=\"embed_loan\")(input_loan)\n",
    "            flatt_loan = Flatten(name=\"flatt_loan\")(embed_loan)\n",
    "\n",
    "            input_contact = Input(shape=(1,), name=\"input_contact\")\n",
    "            embed_contact = Embedding(3, 2, name=\"embed_contact\")(input_contact)\n",
    "            flatt_contact = Flatten(name=\"flatt_contact\")(embed_contact)\n",
    "\n",
    "            input_day = Input(shape=(1,), name=\"input_day\")\n",
    "            embed_day = Embedding(32, dim_day, name=\"embed_day\")(input_day)\n",
    "            flatt_day = Flatten(name=\"flatt_day\")(embed_day)\n",
    "\n",
    "            input_month = Input(shape=(1,), name=\"input_month\")\n",
    "            embed_month = Embedding(13, 6, name=\"embed_month\")(input_month)\n",
    "            flatt_month = Flatten(name=\"flatt_month\")(embed_month)\n",
    "\n",
    "            input_campaign = Input(shape=(1,), name=\"input_campaign\")\n",
    "            embed_campaign = Embedding(6, 3, name=\"embed_campaign\")(input_campaign)\n",
    "            flatt_campaign = Flatten(name=\"flatt_campaign\")(embed_campaign)\n",
    "\n",
    "            input_previous = Input(shape=(1,), name=\"input_previous\")\n",
    "            embed_previous = Embedding(4, 3, name=\"embed_previous\")(input_previous)\n",
    "            flatt_previous = Flatten(name=\"flatt_previous\")(embed_previous)\n",
    "\n",
    "            input_poutcome = Input(shape=(1,), name=\"input_poutcome\")\n",
    "            embed_poutcome = Embedding(4, 3, name=\"embed_poutcome\")(input_poutcome)\n",
    "            flatt_poutcome = Flatten(name=\"flatt_poutcome\")(embed_poutcome)\n",
    "\n",
    "            input_duration = Input(shape=(1,), name=\"input_duration\")\n",
    "            dense_duration = Dense(dim_duration, name=\"fc_duration\")(input_duration)\n",
    "\n",
    "            input_dayofyear = Input(shape=(1,), name=\"input_dayofyear\")\n",
    "            dense_dayofyear = Dense(dim_dayofyear, name=\"fc_dayofyear\")(input_dayofyear)\n",
    "\n",
    "            # ネットワーク接続\n",
    "            concat_layers = [\n",
    "                flatt_age,\n",
    "                flatt_job,\n",
    "                flatt_marital,\n",
    "                flatt_education,\n",
    "                flatt_housing,\n",
    "                flatt_loan,\n",
    "                flatt_contact,\n",
    "                flatt_day,\n",
    "                flatt_month,\n",
    "                flatt_campaign,\n",
    "                flatt_previous,\n",
    "                flatt_poutcome,\n",
    "                dense_duration,\n",
    "                dense_dayofyear,\n",
    "            #    dense_cdp,\n",
    "            ]\n",
    "\n",
    "            x = Concatenate()(concat_layers)\n",
    "\n",
    "            x = Activation(\"relu\")(x)\n",
    "            x = Dense(128, activation=\"relu\")(x)\n",
    "            x = Dense(64, activation=\"relu\")(x)\n",
    "            x = Dense(32, activation=\"relu\")(x)\n",
    "            x = Dense(16, activation=\"relu\")(x)\n",
    "            x = Dense(8, activation=\"relu\")(x)\n",
    "\n",
    "            output_layer = Dense(1, activation=\"sigmoid\")(x)\n",
    "\n",
    "            input_layers = [\n",
    "                input_age,\n",
    "                input_job,\n",
    "                input_marital,\n",
    "                input_education,\n",
    "                input_housing,\n",
    "                input_loan,\n",
    "                input_contact,\n",
    "                input_day,\n",
    "                input_month,\n",
    "                input_campaign,\n",
    "                input_previous,\n",
    "                input_poutcome,\n",
    "                input_duration,\n",
    "                input_dayofyear,\n",
    "            #    input_cdp,\n",
    "            ]\n",
    "\n",
    "            model = Model(input_layers, output_layer)\n",
    "\n",
    "            model.compile(\n",
    "                loss=losses.mean_squared_error,\n",
    "                optimizer=Adam(),\n",
    "                metrics=[AUC()]\n",
    "            )\n",
    "\n",
    "            # 学習\n",
    "            history = model.fit(\n",
    "                train_x,\n",
    "                train_label,\n",
    "                validation_data=(val_x, val_label),\n",
    "                #validation_split=0.2,\n",
    "                batch_size=24,\n",
    "                epochs=100,\n",
    "                verbose=0,\n",
    "                callbacks=[\n",
    "                    EarlyStopping(\n",
    "                        monitor=\"val_auc\",\n",
    "                        patience=3,\n",
    "                        mode='max',\n",
    "                        verbose=0,\n",
    "                        restore_best_weights=True,\n",
    "                    )\n",
    "                ]\n",
    "            )\n",
    "\n",
    "            score = max(history.history['val_auc'][-4:])\n",
    "            print(score)\n",
    "            \n",
    "            val_aucs.append(score)\n",
    "            self._boosters.append(model)\n",
    "            \n",
    "        score = sum(val_aucs) / len(val_aucs)\n",
    "        return score\n",
    "    \n",
    "    def callback(self, study, trial):\n",
    "        if study.best_trial == trial:\n",
    "            self.best_boosters = self._boosters"
   ]
  },
  {
   "cell_type": "markdown",
   "metadata": {},
   "source": [
    "## ハイパーパラメータチューニング\n"
   ]
  },
  {
   "cell_type": "code",
   "execution_count": 14,
   "metadata": {},
   "outputs": [
    {
     "name": "stdout",
     "output_type": "stream",
     "text": [
      "0.9012647271156311\n",
      "0.8925905227661133\n",
      "0.5\n",
      "0.8931202292442322\n",
      "0.8856481909751892\n"
     ]
    },
    {
     "name": "stderr",
     "output_type": "stream",
     "text": [
      "[I 2020-08-29 01:43:05,677] Trial 0 finished with value: 0.8145247340202332 and parameters: {'dim_age': 49, 'dim_job': 10, 'dim_day': 13, 'dim_duration': 7, 'dim_dayofyear': 185}. Best is trial 0 with value: 0.8145247340202332.\n"
     ]
    },
    {
     "name": "stdout",
     "output_type": "stream",
     "text": [
      "0.9176896214485168\n",
      "0.8948123455047607\n",
      "0.8905540704727173\n",
      "0.8811097741127014\n",
      "0.881950855255127\n"
     ]
    },
    {
     "name": "stderr",
     "output_type": "stream",
     "text": [
      "[I 2020-08-29 01:56:37,752] Trial 1 finished with value: 0.8932233333587647 and parameters: {'dim_age': 70, 'dim_job': 2, 'dim_day': 22, 'dim_duration': 7, 'dim_dayofyear': 148}. Best is trial 1 with value: 0.8932233333587647.\n"
     ]
    },
    {
     "name": "stdout",
     "output_type": "stream",
     "text": [
      "0.8927920460700989\n",
      "0.8898373246192932\n",
      "0.8804799914360046\n",
      "0.8909855484962463\n",
      "0.8755835890769958\n"
     ]
    },
    {
     "name": "stderr",
     "output_type": "stream",
     "text": [
      "[I 2020-08-29 02:07:40,227] Trial 2 finished with value: 0.8859356999397278 and parameters: {'dim_age': 1, 'dim_job': 10, 'dim_day': 11, 'dim_duration': 1, 'dim_dayofyear': 52}. Best is trial 1 with value: 0.8932233333587647.\n"
     ]
    },
    {
     "name": "stdout",
     "output_type": "stream",
     "text": [
      "0.911544680595398\n",
      "0.9079148173332214\n",
      "0.8894345760345459\n",
      "0.8963086009025574\n",
      "0.8761250972747803\n"
     ]
    },
    {
     "name": "stderr",
     "output_type": "stream",
     "text": [
      "[I 2020-08-29 02:21:45,054] Trial 3 finished with value: 0.8962655544281006 and parameters: {'dim_age': 26, 'dim_job': 7, 'dim_day': 20, 'dim_duration': 4, 'dim_dayofyear': 24}. Best is trial 3 with value: 0.8962655544281006.\n"
     ]
    },
    {
     "name": "stdout",
     "output_type": "stream",
     "text": [
      "0.9007205367088318\n",
      "0.9000857472419739\n",
      "0.9039461016654968\n",
      "0.8972258567810059\n",
      "0.888151228427887\n"
     ]
    },
    {
     "name": "stderr",
     "output_type": "stream",
     "text": [
      "[I 2020-08-29 02:35:25,948] Trial 4 finished with value: 0.8980258941650391 and parameters: {'dim_age': 76, 'dim_job': 12, 'dim_day': 26, 'dim_duration': 1, 'dim_dayofyear': 45}. Best is trial 4 with value: 0.8980258941650391.\n"
     ]
    },
    {
     "name": "stdout",
     "output_type": "stream",
     "text": [
      "0.9075884819030762\n",
      "0.9047018885612488\n",
      "0.8998344540596008\n",
      "0.8949704170227051\n",
      "0.8727635145187378\n"
     ]
    },
    {
     "name": "stderr",
     "output_type": "stream",
     "text": [
      "[I 2020-08-29 02:49:37,244] Trial 5 finished with value: 0.8959717512130737 and parameters: {'dim_age': 44, 'dim_job': 11, 'dim_day': 16, 'dim_duration': 1, 'dim_dayofyear': 95}. Best is trial 4 with value: 0.8980258941650391.\n"
     ]
    },
    {
     "name": "stdout",
     "output_type": "stream",
     "text": [
      "0.9151551723480225\n",
      "0.8966037631034851\n",
      "0.9050310850143433\n",
      "0.8934460878372192\n",
      "0.8875579833984375\n"
     ]
    },
    {
     "name": "stderr",
     "output_type": "stream",
     "text": [
      "[I 2020-08-29 03:03:11,513] Trial 6 finished with value: 0.8995588183403015 and parameters: {'dim_age': 86, 'dim_job': 6, 'dim_day': 30, 'dim_duration': 5, 'dim_dayofyear': 26}. Best is trial 6 with value: 0.8995588183403015.\n"
     ]
    },
    {
     "name": "stdout",
     "output_type": "stream",
     "text": [
      "0.9095667004585266\n",
      "0.8822121620178223\n",
      "0.5051062107086182\n",
      "0.8942375183105469\n",
      "0.8928601145744324\n"
     ]
    },
    {
     "name": "stderr",
     "output_type": "stream",
     "text": [
      "[I 2020-08-29 03:15:23,265] Trial 7 finished with value: 0.8167965412139893 and parameters: {'dim_age': 82, 'dim_job': 9, 'dim_day': 22, 'dim_duration': 1, 'dim_dayofyear': 38}. Best is trial 6 with value: 0.8995588183403015.\n"
     ]
    },
    {
     "name": "stdout",
     "output_type": "stream",
     "text": [
      "0.9148347973823547\n",
      "0.8995276689529419\n",
      "0.9077818989753723\n",
      "0.8735314607620239\n",
      "0.8896715641021729\n"
     ]
    },
    {
     "name": "stderr",
     "output_type": "stream",
     "text": [
      "[I 2020-08-29 03:31:46,325] Trial 8 finished with value: 0.8970694780349732 and parameters: {'dim_age': 76, 'dim_job': 7, 'dim_day': 11, 'dim_duration': 9, 'dim_dayofyear': 140}. Best is trial 6 with value: 0.8995588183403015.\n"
     ]
    },
    {
     "name": "stdout",
     "output_type": "stream",
     "text": [
      "0.9108965396881104\n",
      "0.887925922870636\n",
      "0.8994548916816711\n",
      "0.8887077569961548\n",
      "0.8734116554260254\n"
     ]
    },
    {
     "name": "stderr",
     "output_type": "stream",
     "text": [
      "[I 2020-08-29 03:43:42,021] Trial 9 finished with value: 0.8920793533325195 and parameters: {'dim_age': 80, 'dim_job': 4, 'dim_day': 4, 'dim_duration': 1, 'dim_dayofyear': 85}. Best is trial 6 with value: 0.8995588183403015.\n"
     ]
    },
    {
     "name": "stdout",
     "output_type": "stream",
     "text": [
      "0.9132255911827087\n",
      "0.9008768796920776\n",
      "0.905912458896637\n",
      "0.8939751386642456\n",
      "0.8841971158981323\n"
     ]
    },
    {
     "name": "stderr",
     "output_type": "stream",
     "text": [
      "[I 2020-08-29 03:58:44,123] Trial 10 finished with value: 0.8996374368667602 and parameters: {'dim_age': 48, 'dim_job': 4, 'dim_day': 30, 'dim_duration': 4, 'dim_dayofyear': 17}. Best is trial 10 with value: 0.8996374368667602.\n"
     ]
    },
    {
     "name": "stdout",
     "output_type": "stream",
     "text": [
      "0.89037024974823\n",
      "0.8981757164001465\n",
      "0.9074195623397827\n",
      "0.8943236470222473\n",
      "0.8931994438171387\n"
     ]
    },
    {
     "name": "stderr",
     "output_type": "stream",
     "text": [
      "[I 2020-08-29 04:14:22,008] Trial 11 finished with value: 0.896697723865509 and parameters: {'dim_age': 55, 'dim_job': 4, 'dim_day': 31, 'dim_duration': 4, 'dim_dayofyear': 10}. Best is trial 10 with value: 0.8996374368667602.\n"
     ]
    },
    {
     "name": "stdout",
     "output_type": "stream",
     "text": [
      "0.9053505063056946\n",
      "0.8927708268165588\n",
      "0.904384195804596\n",
      "0.8904359936714172\n",
      "0.8911319971084595\n"
     ]
    },
    {
     "name": "stderr",
     "output_type": "stream",
     "text": [
      "[I 2020-08-29 04:27:21,886] Trial 12 finished with value: 0.8968147039413452 and parameters: {'dim_age': 21, 'dim_job': 4, 'dim_day': 31, 'dim_duration': 4, 'dim_dayofyear': 68}. Best is trial 10 with value: 0.8996374368667602.\n"
     ]
    },
    {
     "name": "stdout",
     "output_type": "stream",
     "text": [
      "0.9065423011779785\n",
      "0.8848127722740173\n",
      "0.8991492390632629\n",
      "0.8913244009017944\n",
      "0.8879469037055969\n"
     ]
    },
    {
     "name": "stderr",
     "output_type": "stream",
     "text": [
      "[I 2020-08-29 04:41:06,963] Trial 13 finished with value: 0.89395512342453 and parameters: {'dim_age': 32, 'dim_job': 1, 'dim_day': 28, 'dim_duration': 6, 'dim_dayofyear': 12}. Best is trial 10 with value: 0.8996374368667602.\n"
     ]
    },
    {
     "name": "stdout",
     "output_type": "stream",
     "text": [
      "0.9130377173423767\n",
      "0.90215003490448\n",
      "0.5\n",
      "0.8927571773529053\n",
      "0.8924822211265564\n"
     ]
    },
    {
     "name": "stderr",
     "output_type": "stream",
     "text": [
      "[I 2020-08-29 04:54:00,831] Trial 14 finished with value: 0.8200854301452637 and parameters: {'dim_age': 62, 'dim_job': 5, 'dim_day': 26, 'dim_duration': 3, 'dim_dayofyear': 134}. Best is trial 10 with value: 0.8996374368667602.\n"
     ]
    },
    {
     "name": "stdout",
     "output_type": "stream",
     "text": [
      "0.9161125421524048\n",
      "0.8979077935218811\n",
      "0.9048080444335938\n",
      "0.891654908657074\n",
      "0.5\n"
     ]
    },
    {
     "name": "stderr",
     "output_type": "stream",
     "text": [
      "[I 2020-08-29 05:05:38,872] Trial 15 finished with value: 0.8220966577529907 and parameters: {'dim_age': 7, 'dim_job': 6, 'dim_day': 31, 'dim_duration': 3, 'dim_dayofyear': 13}. Best is trial 10 with value: 0.8996374368667602.\n"
     ]
    },
    {
     "name": "stdout",
     "output_type": "stream",
     "text": [
      "0.8837816715240479\n",
      "0.8769712448120117\n",
      "0.8948113322257996\n",
      "0.8757666349411011\n",
      "0.8738437294960022\n"
     ]
    },
    {
     "name": "stderr",
     "output_type": "stream",
     "text": [
      "[I 2020-08-29 05:22:41,685] Trial 16 finished with value: 0.8810349225997924 and parameters: {'dim_age': 89, 'dim_job': 2, 'dim_day': 1, 'dim_duration': 5, 'dim_dayofyear': 69}. Best is trial 10 with value: 0.8996374368667602.\n"
     ]
    },
    {
     "name": "stdout",
     "output_type": "stream",
     "text": [
      "0.907365083694458\n",
      "0.8989626169204712\n",
      "0.8971294164657593\n",
      "0.8987180590629578\n",
      "0.8903450965881348\n"
     ]
    },
    {
     "name": "stderr",
     "output_type": "stream",
     "text": [
      "[I 2020-08-29 05:36:22,932] Trial 17 finished with value: 0.8985040545463562 and parameters: {'dim_age': 90, 'dim_job': 8, 'dim_day': 27, 'dim_duration': 9, 'dim_dayofyear': 114}. Best is trial 10 with value: 0.8996374368667602.\n"
     ]
    },
    {
     "name": "stdout",
     "output_type": "stream",
     "text": [
      "0.8805152177810669\n",
      "0.8959172368049622\n",
      "0.9007870554924011\n",
      "0.8788589239120483\n",
      "0.8908132314682007\n"
     ]
    },
    {
     "name": "stderr",
     "output_type": "stream",
     "text": [
      "[I 2020-08-29 05:46:23,771] Trial 18 finished with value: 0.8893783330917359 and parameters: {'dim_age': 38, 'dim_job': 3, 'dim_day': 18, 'dim_duration': 6, 'dim_dayofyear': 33}. Best is trial 10 with value: 0.8996374368667602.\n"
     ]
    },
    {
     "name": "stdout",
     "output_type": "stream",
     "text": [
      "0.9066810011863708\n",
      "0.8869205713272095\n",
      "0.905071496963501\n",
      "0.9011879563331604\n",
      "0.8941394686698914\n"
     ]
    },
    {
     "name": "stderr",
     "output_type": "stream",
     "text": [
      "[I 2020-08-29 06:02:29,503] Trial 19 finished with value: 0.8988000988960266 and parameters: {'dim_age': 15, 'dim_job': 6, 'dim_day': 24, 'dim_duration': 7, 'dim_dayofyear': 63}. Best is trial 10 with value: 0.8996374368667602.\n"
     ]
    }
   ],
   "source": [
    "objective = Objective()\n",
    "study = optuna.create_study(direction='maximize')\n",
    "study.optimize(objective, n_trials=20, callbacks=[objective.callback])"
   ]
  },
  {
   "cell_type": "code",
   "execution_count": 15,
   "metadata": {},
   "outputs": [
    {
     "name": "stdout",
     "output_type": "stream",
     "text": [
      "Number of finished trials: 20\n",
      "Best trial:\n",
      "  Value: 0.8996374368667602\n",
      "  Params: \n",
      "    dim_age: 48\n",
      "    dim_job: 4\n",
      "    dim_day: 30\n",
      "    dim_duration: 4\n",
      "    dim_dayofyear: 17\n"
     ]
    }
   ],
   "source": [
    "print(\"Number of finished trials: {}\".format(len(study.trials)))\n",
    "\n",
    "print(\"Best trial:\")\n",
    "trial = study.best_trial\n",
    "\n",
    "print(\"  Value: {}\".format(trial.value))\n",
    "\n",
    "print(\"  Params: \")\n",
    "for key, value in trial.params.items():\n",
    "    print(\"    {}: {}\".format(key, value))"
   ]
  },
  {
   "cell_type": "markdown",
   "metadata": {},
   "source": [
    "## 評価"
   ]
  },
  {
   "cell_type": "code",
   "execution_count": 16,
   "metadata": {},
   "outputs": [
    {
     "data": {
      "text/plain": [
       "OrderedDict([('dim_dayofyear', 0.4020900536006124),\n",
       "             ('dim_job', 0.22452587076375227),\n",
       "             ('dim_duration', 0.19621970567406766),\n",
       "             ('dim_age', 0.1235048512718301),\n",
       "             ('dim_day', 0.05365951868973766)])"
      ]
     },
     "execution_count": 16,
     "metadata": {},
     "output_type": "execute_result"
    }
   ],
   "source": [
    "optuna.importance.get_param_importances(study)"
   ]
  },
  {
   "cell_type": "markdown",
   "metadata": {},
   "source": [
    "## 推論"
   ]
  },
  {
   "cell_type": "code",
   "execution_count": 17,
   "metadata": {},
   "outputs": [],
   "source": [
    "best_models = objective.best_boosters\n",
    "\n",
    "test_preds = []\n",
    "\n",
    "for model in best_models:\n",
    "    x = {\n",
    "        \"input_age\": test_df[[\"age\"]],\n",
    "        \"input_job\": test_df[[\"job\"]],\n",
    "        \"input_marital\": test_df[[\"marital\"]],\n",
    "        'input_education': test_df[[\"education\"]],\n",
    "        \"input_housing\": test_df[[\"housing\"]],\n",
    "        \"input_loan\": test_df[[\"loan\"]],\n",
    "        \"input_contact\": test_df[[\"contact\"]],\n",
    "        \"input_day\": test_df[[\"day\"]],\n",
    "        \"input_month\": test_df[[\"month\"]],\n",
    "        \"input_campaign\": test_df[[\"campaign\"]],\n",
    "        \"input_previous\": test_df[[\"previous\"]],\n",
    "        \"input_poutcome\": test_df[[\"poutcome\"]],\n",
    "        \"input_duration\": test_df[[\"duration\"]],\n",
    "        \"input_dayofyear\": test_df[[\"dayofyear\"]],\n",
    "    #    \"input_cdp\": train_df[[\"cdp\"]],\n",
    "    }    \n",
    "    \n",
    "    test_preds.append(model.predict(x))\n",
    "\n",
    "test_pred = np.average(np.array(test_preds), axis=0)"
   ]
  },
  {
   "cell_type": "code",
   "execution_count": 18,
   "metadata": {},
   "outputs": [
    {
     "data": {
      "text/plain": [
       "array([[0.94222814],\n",
       "       [0.05698726],\n",
       "       [0.01280272],\n",
       "       ...,\n",
       "       [0.02887951],\n",
       "       [0.00715769],\n",
       "       [0.065445  ]], dtype=float32)"
      ]
     },
     "execution_count": 18,
     "metadata": {},
     "output_type": "execute_result"
    }
   ],
   "source": [
    "test_pred"
   ]
  },
  {
   "cell_type": "code",
   "execution_count": 19,
   "metadata": {},
   "outputs": [],
   "source": [
    "submit_df[1] = test_pred\n",
    "submit_df.to_csv('submit-nn.csv', header=False, index=False)"
   ]
  }
 ],
 "metadata": {
  "kernelspec": {
   "display_name": "tensorflow",
   "language": "python",
   "name": "tensorflow"
  },
  "language_info": {
   "codemirror_mode": {
    "name": "ipython",
    "version": 3
   },
   "file_extension": ".py",
   "mimetype": "text/x-python",
   "name": "python",
   "nbconvert_exporter": "python",
   "pygments_lexer": "ipython3",
   "version": "3.6.9"
  },
  "toc-autonumbering": true
 },
 "nbformat": 4,
 "nbformat_minor": 4
}
