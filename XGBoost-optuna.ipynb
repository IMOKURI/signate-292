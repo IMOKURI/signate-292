{
 "cells": [
  {
   "cell_type": "markdown",
   "metadata": {},
   "source": [
    "# 【第1回_Beginner限定コンペ】銀行の顧客ターゲティング\n",
    "\n",
    "顧客の属性情報などから定期預金キャンペーンの反応率を予測しよう。\n",
    "\n",
    "https://signate.jp/competitions/292\n",
    "\n",
    "XGBoost編"
   ]
  },
  {
   "cell_type": "code",
   "execution_count": 158,
   "metadata": {},
   "outputs": [],
   "source": [
    "import numpy as np\n",
    "import pandas as pd\n",
    "import matplotlib.pyplot as plt\n",
    "import seaborn as sns\n",
    "%matplotlib inline\n",
    "\n",
    "import optuna\n",
    "import xgboost as xgb\n",
    "\n",
    "from sklearn.model_selection import train_test_split\n",
    "from sklearn.metrics import accuracy_score, recall_score, precision_score, f1_score"
   ]
  },
  {
   "cell_type": "code",
   "execution_count": 159,
   "metadata": {},
   "outputs": [],
   "source": [
    "train_df = pd.read_csv('train.csv')\n",
    "test_df = pd.read_csv('test.csv')\n",
    "submit_df = pd.read_csv('submit_sample.csv', header=None)"
   ]
  },
  {
   "cell_type": "code",
   "execution_count": 160,
   "metadata": {},
   "outputs": [],
   "source": [
    "df_list = [train_df, test_df]\n",
    "\n",
    "for df in df_list:\n",
    "    #df['job'] = job_encoder.transform(df['job'])\n",
    "    df['job'] = df['job'].map({'unknown': 1, 'technician': 2, 'blue-collar': 3, 'services': 4, 'entrepreneur': 5, 'admin.': 6, 'management': 7, 'housemaid': 8, 'self-employed': 9, 'unemployed': 10, 'retired': 11, 'student': 12})\n",
    "\n",
    "    df['marital'] = df['marital'].map({'married': 2, 'divorced':1, 'single': 0})\n",
    "    #df.drop(['marital'], axis=1, inplace=True)\n",
    "\n",
    "    df['education'] = df['education'].map({'tertiary': 3, 'secondary': 2, 'primary': 1, 'unknown': 0})\n",
    "    #df.drop(['education'], axis=1, inplace=True)\n",
    "\n",
    "    #df['default'] = df['default'].map({'yes': 1, 'no': 0})\n",
    "    df.drop(['default'], axis=1, inplace=True)\n",
    "\n",
    "    df['housing'] = df['housing'].map({'yes': 1, 'no': 0})\n",
    "    #df.drop(['housing'], axis=1, inplace=True)\n",
    "    \n",
    "    df['loan'] = df['loan'].map({'yes': 1, 'no': 0})\n",
    "    #df.drop(['loan'], axis=1, inplace=True)\n",
    "\n",
    "    df['contact'] = df['contact'].map({'telephone': 2, 'cellular': 1, 'unknown': 0})\n",
    "    #df.drop(['contact'], axis=1, inplace=True)\n",
    "\n",
    "    df['poutcome'] = df['poutcome'].map({'success': 3, 'unknown': 2, 'failure': 1, 'other': 0})\n",
    "    \n",
    "    df['month'] = df['month'].map({'jan': 1, 'feb': 2, 'mar': 3, 'apr': 4, 'may': 5, 'jun': 6, 'jul': 7, 'aug': 8, 'sep': 9, 'oct': 10, 'nov': 11, 'dec': 12})\n",
    "    #df.drop(['day', 'month'], axis=1, inplace=True)\n",
    "    \n",
    "    # Feb 30 とかあって、正確には変換できない\n",
    "    df['days'] = pd.to_datetime('2016/' + df['month'].astype(str).str.pad(2,fillchar='0') + '/' + df['day'].astype(str).str.pad(2,fillchar='0'), format='%Y/%m/%d').dt.strftime('%j').astype('uint16')\n",
    "    #df['days'] = df['month'] * 31 + df['day']\n",
    "    \n",
    "    df['bpp'] = np.log((df['balance'] - df['balance'].min()) / (df['pdays'] + 2) + 1)\n",
    "    \n",
    "    df.drop(['id'], axis=1, inplace=True)"
   ]
  },
  {
   "cell_type": "code",
   "execution_count": 161,
   "metadata": {},
   "outputs": [],
   "source": [
    "y = train_df.pop('y')"
   ]
  },
  {
   "cell_type": "code",
   "execution_count": 162,
   "metadata": {},
   "outputs": [],
   "source": [
    "X_train, X_test, y_train, y_test = train_test_split(train_df, y, test_size=0.2, random_state=44)"
   ]
  },
  {
   "cell_type": "code",
   "execution_count": 163,
   "metadata": {},
   "outputs": [],
   "source": [
    "def objective(trial):\n",
    "    params = {\n",
    "        'n_estimators': trial.suggest_int('n_estimators', 10, 1000),\n",
    "        'max_depth': trial.suggest_int('max_depth', 2, 32),\n",
    "        'min_child_weight': trial.suggest_int('min_child_weight', 1, 20),\n",
    "        'scale_pos_weight': trial.suggest_int('scale_pos_weight', 1, 100),\n",
    "    }\n",
    "    model = xgb.XGBRegressor(**params).fit(X_train, y_train)\n",
    "    return model.score(X_test, y_test)"
   ]
  },
  {
   "cell_type": "code",
   "execution_count": 164,
   "metadata": {},
   "outputs": [
    {
     "name": "stderr",
     "output_type": "stream",
     "text": [
      "[I 2020-08-22 09:11:58,666] Trial 0 finished with value: -0.23155550632942212 and parameters: {'n_estimators': 421, 'max_depth': 20, 'min_child_weight': 7, 'scale_pos_weight': 94}. Best is trial 0 with value: -0.23155550632942212.\n",
      "[I 2020-08-22 09:12:01,804] Trial 1 finished with value: -0.9869926224664562 and parameters: {'n_estimators': 981, 'max_depth': 4, 'min_child_weight': 16, 'scale_pos_weight': 62}. Best is trial 0 with value: -0.23155550632942212.\n",
      "[I 2020-08-22 09:12:06,841] Trial 2 finished with value: -0.40659833350620267 and parameters: {'n_estimators': 884, 'max_depth': 13, 'min_child_weight': 4, 'scale_pos_weight': 56}. Best is trial 0 with value: -0.23155550632942212.\n",
      "[I 2020-08-22 09:12:10,564] Trial 3 finished with value: -0.0409296153878016 and parameters: {'n_estimators': 403, 'max_depth': 27, 'min_child_weight': 6, 'scale_pos_weight': 10}. Best is trial 3 with value: -0.0409296153878016.\n",
      "[I 2020-08-22 09:12:21,205] Trial 4 finished with value: -0.14898580568564523 and parameters: {'n_estimators': 396, 'max_depth': 32, 'min_child_weight': 16, 'scale_pos_weight': 54}. Best is trial 3 with value: -0.0409296153878016.\n",
      "[I 2020-08-22 09:12:28,261] Trial 5 finished with value: -0.29316281995640203 and parameters: {'n_estimators': 786, 'max_depth': 14, 'min_child_weight': 10, 'scale_pos_weight': 65}. Best is trial 3 with value: -0.0409296153878016.\n",
      "[I 2020-08-22 09:12:28,653] Trial 6 finished with value: -1.3290726627914435 and parameters: {'n_estimators': 52, 'max_depth': 8, 'min_child_weight': 20, 'scale_pos_weight': 55}. Best is trial 3 with value: -0.0409296153878016.\n",
      "[I 2020-08-22 09:12:37,882] Trial 7 finished with value: -0.19958329025727006 and parameters: {'n_estimators': 298, 'max_depth': 31, 'min_child_weight': 16, 'scale_pos_weight': 83}. Best is trial 3 with value: -0.0409296153878016.\n",
      "[I 2020-08-22 09:12:39,750] Trial 8 finished with value: -0.2393535201341166 and parameters: {'n_estimators': 79, 'max_depth': 20, 'min_child_weight': 12, 'scale_pos_weight': 97}. Best is trial 3 with value: -0.0409296153878016.\n",
      "[I 2020-08-22 09:12:45,948] Trial 9 finished with value: 0.000865452948395351 and parameters: {'n_estimators': 668, 'max_depth': 10, 'min_child_weight': 15, 'scale_pos_weight': 3}. Best is trial 9 with value: 0.000865452948395351.\n",
      "[I 2020-08-22 09:12:47,120] Trial 10 finished with value: 0.16292029999636026 and parameters: {'n_estimators': 687, 'max_depth': 2, 'min_child_weight': 20, 'scale_pos_weight': 2}. Best is trial 10 with value: 0.16292029999636026.\n",
      "[I 2020-08-22 09:12:48,355] Trial 11 finished with value: 0.23642243041761268 and parameters: {'n_estimators': 716, 'max_depth': 2, 'min_child_weight': 20, 'scale_pos_weight': 1}. Best is trial 11 with value: 0.23642243041761268.\n",
      "[I 2020-08-22 09:12:49,456] Trial 12 finished with value: -1.6236557493562356 and parameters: {'n_estimators': 672, 'max_depth': 2, 'min_child_weight': 20, 'scale_pos_weight': 25}. Best is trial 11 with value: 0.23642243041761268.\n",
      "[I 2020-08-22 09:12:50,506] Trial 13 finished with value: -1.7937561087193639 and parameters: {'n_estimators': 640, 'max_depth': 2, 'min_child_weight': 20, 'scale_pos_weight': 28}. Best is trial 11 with value: 0.23642243041761268.\n",
      "[I 2020-08-22 09:12:53,379] Trial 14 finished with value: -0.24351722786545316 and parameters: {'n_estimators': 561, 'max_depth': 6, 'min_child_weight': 18, 'scale_pos_weight': 19}. Best is trial 11 with value: 0.23642243041761268.\n",
      "[I 2020-08-22 09:12:56,767] Trial 15 finished with value: -0.5385455050272097 and parameters: {'n_estimators': 819, 'max_depth': 5, 'min_child_weight': 12, 'scale_pos_weight': 37}. Best is trial 11 with value: 0.23642243041761268.\n",
      "[I 2020-08-22 09:13:05,558] Trial 16 finished with value: -0.029442157865824825 and parameters: {'n_estimators': 964, 'max_depth': 10, 'min_child_weight': 18, 'scale_pos_weight': 4}. Best is trial 11 with value: 0.23642243041761268.\n",
      "[I 2020-08-22 09:13:06,877] Trial 17 finished with value: -0.8869017796189607 and parameters: {'n_estimators': 771, 'max_depth': 2, 'min_child_weight': 1, 'scale_pos_weight': 13}. Best is trial 11 with value: 0.23642243041761268.\n",
      "[I 2020-08-22 09:13:15,610] Trial 18 finished with value: -0.1695659017048785 and parameters: {'n_estimators': 524, 'max_depth': 25, 'min_child_weight': 18, 'scale_pos_weight': 39}. Best is trial 11 with value: 0.23642243041761268.\n",
      "[I 2020-08-22 09:13:22,493] Trial 19 finished with value: 0.08433914336521608 and parameters: {'n_estimators': 729, 'max_depth': 15, 'min_child_weight': 14, 'scale_pos_weight': 1}. Best is trial 11 with value: 0.23642243041761268.\n"
     ]
    }
   ],
   "source": [
    "study = optuna.create_study(direction='maximize')\n",
    "study.optimize(objective, n_trials=20)"
   ]
  },
  {
   "cell_type": "code",
   "execution_count": 165,
   "metadata": {},
   "outputs": [
    {
     "name": "stdout",
     "output_type": "stream",
     "text": [
      "Number of finished trials: 20\n",
      "Best trial:\n",
      "  Value: 0.23642243041761268\n",
      "  Params: \n",
      "    n_estimators: 716\n",
      "    max_depth: 2\n",
      "    min_child_weight: 20\n",
      "    scale_pos_weight: 1\n"
     ]
    }
   ],
   "source": [
    "print(\"Number of finished trials: {}\".format(len(study.trials)))\n",
    "\n",
    "print(\"Best trial:\")\n",
    "trial = study.best_trial\n",
    "\n",
    "print(\"  Value: {}\".format(trial.value))\n",
    "\n",
    "print(\"  Params: \")\n",
    "for key, value in trial.params.items():\n",
    "    print(\"    {}: {}\".format(key, value))"
   ]
  },
  {
   "cell_type": "code",
   "execution_count": 166,
   "metadata": {},
   "outputs": [
    {
     "data": {
      "text/plain": [
       "OrderedDict([('max_depth', 0.46722911979319887),\n",
       "             ('min_child_weight', 0.31377830808533647),\n",
       "             ('scale_pos_weight', 0.13669732853563774),\n",
       "             ('n_estimators', 0.08229524358582702)])"
      ]
     },
     "execution_count": 166,
     "metadata": {},
     "output_type": "execute_result"
    }
   ],
   "source": [
    "optuna.importance.get_param_importances(study)"
   ]
  },
  {
   "cell_type": "code",
   "execution_count": 167,
   "metadata": {},
   "outputs": [],
   "source": [
    "best_params = {}\n",
    "best_params.update(study.best_trial.params)\n",
    "\n",
    "best_model = xgb.XGBRegressor(**best_params).fit(X_train, y_train)"
   ]
  },
  {
   "cell_type": "code",
   "execution_count": 168,
   "metadata": {},
   "outputs": [
    {
     "name": "stdout",
     "output_type": "stream",
     "text": [
      "Accuracy score = \t 0.9324723247232473\n",
      "Precision score = \t 0.8301886792452831\n",
      "Recall score =   \t 0.2018348623853211\n",
      "F1 score =      \t 0.32472324723247237\n"
     ]
    }
   ],
   "source": [
    "preds = np.round(best_model.predict(X_test))\n",
    "print('Accuracy score = \\t {}'.format(accuracy_score(y_test, preds)))\n",
    "print('Precision score = \\t {}'.format(precision_score(y_test, preds)))\n",
    "print('Recall score =   \\t {}'.format(recall_score(y_test, preds)))\n",
    "print('F1 score =      \\t {}'.format(f1_score(y_test, preds)))"
   ]
  },
  {
   "cell_type": "code",
   "execution_count": 169,
   "metadata": {},
   "outputs": [],
   "source": [
    "test_pred = best_model.predict(test_df)\n",
    "submit_df[1] = test_pred\n",
    "submit_df.to_csv('submit-xg.csv', header=False, index=False)"
   ]
  }
 ],
 "metadata": {
  "kernelspec": {
   "display_name": "tensorflow",
   "language": "python",
   "name": "tensorflow"
  },
  "language_info": {
   "codemirror_mode": {
    "name": "ipython",
    "version": 3
   },
   "file_extension": ".py",
   "mimetype": "text/x-python",
   "name": "python",
   "nbconvert_exporter": "python",
   "pygments_lexer": "ipython3",
   "version": "3.6.9"
  }
 },
 "nbformat": 4,
 "nbformat_minor": 4
}
