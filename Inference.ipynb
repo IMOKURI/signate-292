{
 "cells": [
  {
   "cell_type": "markdown",
   "metadata": {},
   "source": [
    "# 【第1回_Beginner限定コンペ】銀行の顧客ターゲティング\n",
    "\n",
    "顧客の属性情報などから定期預金キャンペーンの反応率を予測しよう。\n",
    "\n",
    "https://signate.jp/competitions/292\n",
    "\n",
    "Inference編"
   ]
  },
  {
   "cell_type": "code",
   "execution_count": 7,
   "metadata": {},
   "outputs": [],
   "source": [
    "import pandas as pd\n",
    "import numpy as np\n",
    "\n",
    "import matplotlib.pyplot as plt\n",
    "import seaborn as sns\n",
    "%matplotlib inline"
   ]
  },
  {
   "cell_type": "code",
   "execution_count": 8,
   "metadata": {},
   "outputs": [],
   "source": [
    "submit_df = pd.read_csv('submit_sample.csv', header=None)\n",
    "\n",
    "files = {}\n",
    "\n",
    "files['gbm1'] = 'submit-Copy1.csv'\n",
    "files['gbm2'] = 'submit-Copy2.csv'\n",
    "files['gbm3'] = 'submit-Copy3.csv'\n",
    "files['gbm4'] = 'submit-Copy4.csv'\n",
    "files['gbm5'] = 'submit-Copy5.csv'\n",
    "\n",
    "#files['rf1'] = 'submit-rf-Copy1.csv'\n",
    "#files['rf2'] = 'submit-rf-Copy2.csv'\n",
    "#files['rf3'] = 'submit-rf-Copy3.csv'\n",
    "#files['rf4'] = 'submit-rf-Copy4.csv'\n",
    "#files['rf5'] = 'submit-rf-Copy5.csv'\n",
    "\n",
    "#files['nn'] = 'submit.csv'"
   ]
  },
  {
   "cell_type": "code",
   "execution_count": 9,
   "metadata": {},
   "outputs": [
    {
     "name": "stdout",
     "output_type": "stream",
     "text": [
      "<class 'pandas.core.frame.DataFrame'>\n",
      "Int64Index: 18050 entries, 0 to 18049\n",
      "Data columns (total 5 columns):\n",
      " #   Column  Non-Null Count  Dtype  \n",
      "---  ------  --------------  -----  \n",
      " 0   gbm1    18050 non-null  float64\n",
      " 1   gbm2    18050 non-null  float64\n",
      " 2   gbm3    18050 non-null  float64\n",
      " 3   gbm4    18050 non-null  float64\n",
      " 4   gbm5    18050 non-null  float64\n",
      "dtypes: float64(5)\n",
      "memory usage: 846.1 KB\n"
     ]
    },
    {
     "data": {
      "text/html": [
       "<div>\n",
       "<style scoped>\n",
       "    .dataframe tbody tr th:only-of-type {\n",
       "        vertical-align: middle;\n",
       "    }\n",
       "\n",
       "    .dataframe tbody tr th {\n",
       "        vertical-align: top;\n",
       "    }\n",
       "\n",
       "    .dataframe thead th {\n",
       "        text-align: right;\n",
       "    }\n",
       "</style>\n",
       "<table border=\"1\" class=\"dataframe\">\n",
       "  <thead>\n",
       "    <tr style=\"text-align: right;\">\n",
       "      <th></th>\n",
       "      <th>gbm1</th>\n",
       "      <th>gbm2</th>\n",
       "      <th>gbm3</th>\n",
       "      <th>gbm4</th>\n",
       "      <th>gbm5</th>\n",
       "    </tr>\n",
       "  </thead>\n",
       "  <tbody>\n",
       "    <tr>\n",
       "      <th>0</th>\n",
       "      <td>0.737622</td>\n",
       "      <td>0.799881</td>\n",
       "      <td>0.762300</td>\n",
       "      <td>0.769502</td>\n",
       "      <td>0.659965</td>\n",
       "    </tr>\n",
       "    <tr>\n",
       "      <th>1</th>\n",
       "      <td>0.105516</td>\n",
       "      <td>0.084387</td>\n",
       "      <td>0.074333</td>\n",
       "      <td>0.090934</td>\n",
       "      <td>0.084623</td>\n",
       "    </tr>\n",
       "    <tr>\n",
       "      <th>2</th>\n",
       "      <td>0.022290</td>\n",
       "      <td>0.020389</td>\n",
       "      <td>0.032877</td>\n",
       "      <td>0.019183</td>\n",
       "      <td>0.012233</td>\n",
       "    </tr>\n",
       "    <tr>\n",
       "      <th>3</th>\n",
       "      <td>0.002512</td>\n",
       "      <td>0.003035</td>\n",
       "      <td>0.002934</td>\n",
       "      <td>0.002924</td>\n",
       "      <td>0.001551</td>\n",
       "    </tr>\n",
       "    <tr>\n",
       "      <th>4</th>\n",
       "      <td>0.035520</td>\n",
       "      <td>0.015671</td>\n",
       "      <td>0.055685</td>\n",
       "      <td>0.025229</td>\n",
       "      <td>0.015772</td>\n",
       "    </tr>\n",
       "  </tbody>\n",
       "</table>\n",
       "</div>"
      ],
      "text/plain": [
       "       gbm1      gbm2      gbm3      gbm4      gbm5\n",
       "0  0.737622  0.799881  0.762300  0.769502  0.659965\n",
       "1  0.105516  0.084387  0.074333  0.090934  0.084623\n",
       "2  0.022290  0.020389  0.032877  0.019183  0.012233\n",
       "3  0.002512  0.003035  0.002934  0.002924  0.001551\n",
       "4  0.035520  0.015671  0.055685  0.025229  0.015772"
      ]
     },
     "execution_count": 9,
     "metadata": {},
     "output_type": "execute_result"
    }
   ],
   "source": [
    "dfs = []\n",
    "for key, _file in files.items():\n",
    "    df = pd.read_csv(_file, header=None, index_col=0, names=[key])\n",
    "    dfs.append(df)\n",
    "    \n",
    "_submission = pd.concat(dfs, axis=1)\n",
    "_submission.info()\n",
    "_submission.head()"
   ]
  },
  {
   "cell_type": "code",
   "execution_count": 10,
   "metadata": {},
   "outputs": [],
   "source": [
    "#submission_pg = sns.pairplot(_submission)\n",
    "#submission_pg.savefig('submission_df.png')"
   ]
  },
  {
   "cell_type": "code",
   "execution_count": 11,
   "metadata": {},
   "outputs": [
    {
     "name": "stdout",
     "output_type": "stream",
     "text": [
      "<class 'pandas.core.frame.DataFrame'>\n",
      "Int64Index: 18050 entries, 0 to 18049\n",
      "Data columns (total 5 columns):\n",
      " #   Column  Non-Null Count  Dtype  \n",
      "---  ------  --------------  -----  \n",
      " 0   gbm1    18050 non-null  float64\n",
      " 1   gbm2    18050 non-null  float64\n",
      " 2   gbm3    18050 non-null  float64\n",
      " 3   gbm4    18050 non-null  float64\n",
      " 4   gbm5    18050 non-null  float64\n",
      "dtypes: float64(5)\n",
      "memory usage: 846.1 KB\n"
     ]
    },
    {
     "data": {
      "text/html": [
       "<div>\n",
       "<style scoped>\n",
       "    .dataframe tbody tr th:only-of-type {\n",
       "        vertical-align: middle;\n",
       "    }\n",
       "\n",
       "    .dataframe tbody tr th {\n",
       "        vertical-align: top;\n",
       "    }\n",
       "\n",
       "    .dataframe thead th {\n",
       "        text-align: right;\n",
       "    }\n",
       "</style>\n",
       "<table border=\"1\" class=\"dataframe\">\n",
       "  <thead>\n",
       "    <tr style=\"text-align: right;\">\n",
       "      <th></th>\n",
       "      <th>gbm1</th>\n",
       "      <th>gbm2</th>\n",
       "      <th>gbm3</th>\n",
       "      <th>gbm4</th>\n",
       "      <th>gbm5</th>\n",
       "    </tr>\n",
       "  </thead>\n",
       "  <tbody>\n",
       "    <tr>\n",
       "      <th>0</th>\n",
       "      <td>0.737622</td>\n",
       "      <td>0.799881</td>\n",
       "      <td>0.762300</td>\n",
       "      <td>0.769502</td>\n",
       "      <td>0.659965</td>\n",
       "    </tr>\n",
       "    <tr>\n",
       "      <th>1</th>\n",
       "      <td>0.105516</td>\n",
       "      <td>0.084387</td>\n",
       "      <td>0.074333</td>\n",
       "      <td>0.090934</td>\n",
       "      <td>0.084623</td>\n",
       "    </tr>\n",
       "    <tr>\n",
       "      <th>2</th>\n",
       "      <td>0.022290</td>\n",
       "      <td>0.020389</td>\n",
       "      <td>0.032877</td>\n",
       "      <td>0.019183</td>\n",
       "      <td>0.012233</td>\n",
       "    </tr>\n",
       "    <tr>\n",
       "      <th>3</th>\n",
       "      <td>0.002512</td>\n",
       "      <td>0.003035</td>\n",
       "      <td>0.002934</td>\n",
       "      <td>0.002924</td>\n",
       "      <td>0.001551</td>\n",
       "    </tr>\n",
       "    <tr>\n",
       "      <th>4</th>\n",
       "      <td>0.035520</td>\n",
       "      <td>0.015671</td>\n",
       "      <td>0.055685</td>\n",
       "      <td>0.025229</td>\n",
       "      <td>0.015772</td>\n",
       "    </tr>\n",
       "  </tbody>\n",
       "</table>\n",
       "</div>"
      ],
      "text/plain": [
       "       gbm1      gbm2      gbm3      gbm4      gbm5\n",
       "0  0.737622  0.799881  0.762300  0.769502  0.659965\n",
       "1  0.105516  0.084387  0.074333  0.090934  0.084623\n",
       "2  0.022290  0.020389  0.032877  0.019183  0.012233\n",
       "3  0.002512  0.003035  0.002934  0.002924  0.001551\n",
       "4  0.035520  0.015671  0.055685  0.025229  0.015772"
      ]
     },
     "execution_count": 11,
     "metadata": {},
     "output_type": "execute_result"
    }
   ],
   "source": [
    "# Rank Average\n",
    "#for key in files.keys():\n",
    "#    _submission[key + '_rank'] = _submission[key].rank()\n",
    "    \n",
    "#_submission['rank_sum'] = np.sum(_submission[col] for col in _submission.columns if '_rank' in col)\n",
    "#_submission['target'] = _submission['rank_sum'] / (len(files) * _submission.shape[0])\n",
    "_submission.info()\n",
    "_submission.head()"
   ]
  },
  {
   "cell_type": "code",
   "execution_count": 12,
   "metadata": {},
   "outputs": [
    {
     "name": "stdout",
     "output_type": "stream",
     "text": [
      "   0         1\n",
      "0  0  0.745854\n",
      "1  1  0.087958\n",
      "2  2  0.021394\n",
      "3  3  0.002591\n",
      "4  4  0.029575\n"
     ]
    }
   ],
   "source": [
    "#submit_df[1] = _submission.iloc[:,-1]\n",
    "submit_df[1] = _submission.sum(axis=1) / 5\n",
    "\n",
    "print(submit_df.head())\n",
    "\n",
    "submit_df.to_csv('submit_ensemble.csv', header=False, index=False)"
   ]
  }
 ],
 "metadata": {
  "kernelspec": {
   "display_name": "tensorflow",
   "language": "python",
   "name": "tensorflow"
  },
  "language_info": {
   "codemirror_mode": {
    "name": "ipython",
    "version": 3
   },
   "file_extension": ".py",
   "mimetype": "text/x-python",
   "name": "python",
   "nbconvert_exporter": "python",
   "pygments_lexer": "ipython3",
   "version": "3.6.9"
  }
 },
 "nbformat": 4,
 "nbformat_minor": 4
}
